{
 "cells": [
  {
   "cell_type": "code",
   "execution_count": null,
   "id": "bwAfHzYQEhd9",
   "metadata": {
    "colab": {
     "base_uri": "https://localhost:8080/"
    },
    "id": "bwAfHzYQEhd9",
    "outputId": "429584b2-91f1-456e-c7fc-f61ed68cae67"
   },
   "outputs": [],
   "source": [
    "!pip install pytube"
   ]
  },
  {
   "cell_type": "code",
   "execution_count": 1,
   "id": "2263dd47",
   "metadata": {
    "ExecuteTime": {
     "end_time": "2023-06-08T14:27:18.904331Z",
     "start_time": "2023-06-08T14:27:18.468803Z"
    },
    "id": "2263dd47"
   },
   "outputs": [],
   "source": [
    "import pandas as pd\n",
    "import os\n",
    "import re\n",
    "from tqdm import tqdm\n",
    "from pytube import YouTube# 定义要匹配的字符串\n",
    "\n",
    "df = pd.read_excel(\"./final_Aus_Open_2021to2023_youtube (1).xlsx\")\n",
    "#df2 = pd.read_excel(\"./final_French_Open_2021to2023_youtube.xlsx\")"
   ]
  },
  {
   "cell_type": "markdown",
   "id": "WiAFtDpjIies",
   "metadata": {
    "id": "WiAFtDpjIies"
   },
   "source": [
    "# Basics"
   ]
  },
  {
   "cell_type": "code",
   "execution_count": 2,
   "id": "a9a69259",
   "metadata": {
    "ExecuteTime": {
     "end_time": "2023-06-08T14:27:22.710000Z",
     "start_time": "2023-06-08T14:27:22.694521Z"
    },
    "colab": {
     "base_uri": "https://localhost:8080/",
     "height": 472
    },
    "id": "a9a69259",
    "outputId": "5b8518b2-fc8c-4ea3-9607-b1ae534ec69f"
   },
   "outputs": [
    {
     "data": {
      "text/html": [
       "<div>\n",
       "<style scoped>\n",
       "    .dataframe tbody tr th:only-of-type {\n",
       "        vertical-align: middle;\n",
       "    }\n",
       "\n",
       "    .dataframe tbody tr th {\n",
       "        vertical-align: top;\n",
       "    }\n",
       "\n",
       "    .dataframe thead th {\n",
       "        text-align: right;\n",
       "    }\n",
       "</style>\n",
       "<table border=\"1\" class=\"dataframe\">\n",
       "  <thead>\n",
       "    <tr style=\"text-align: right;\">\n",
       "      <th></th>\n",
       "      <th>url</th>\n",
       "      <th>title</th>\n",
       "      <th>name</th>\n",
       "    </tr>\n",
       "  </thead>\n",
       "  <tbody>\n",
       "    <tr>\n",
       "      <th>0</th>\n",
       "      <td>https://www.youtube.com/watch?v=87gmYTBO2bo</td>\n",
       "      <td>Iga Swiatek v Elena Rybakina Full Match | Aust...</td>\n",
       "      <td>Elena Rybakina</td>\n",
       "    </tr>\n",
       "    <tr>\n",
       "      <th>1</th>\n",
       "      <td>https://www.youtube.com/watch?v=enbx3eLRjmU</td>\n",
       "      <td>Elena Rybakina v Victoria Azarenka Full Match ...</td>\n",
       "      <td>Elena Rybakina</td>\n",
       "    </tr>\n",
       "    <tr>\n",
       "      <th>2</th>\n",
       "      <td>https://www.youtube.com/watch?v=27fU-e-tuQ0</td>\n",
       "      <td>Elena Rybakina v Danielle Collins Full Match |...</td>\n",
       "      <td>Elena Rybakina</td>\n",
       "    </tr>\n",
       "    <tr>\n",
       "      <th>3</th>\n",
       "      <td>https://www.youtube.com/watch?v=qCB2kFtHd3c</td>\n",
       "      <td>Elena Rybakina v Jelena Ostapenko Full Match |...</td>\n",
       "      <td>Elena Rybakina</td>\n",
       "    </tr>\n",
       "    <tr>\n",
       "      <th>4</th>\n",
       "      <td>https://www.youtube.com/watch?v=-2pRgM36Rjs</td>\n",
       "      <td>Elena Rybakina v Aryna Sabalenka Full Match | ...</td>\n",
       "      <td>Elena Rybakina</td>\n",
       "    </tr>\n",
       "    <tr>\n",
       "      <th>...</th>\n",
       "      <td>...</td>\n",
       "      <td>...</td>\n",
       "      <td>...</td>\n",
       "    </tr>\n",
       "    <tr>\n",
       "      <th>109</th>\n",
       "      <td>https://www.youtube.com/watch?v=SPkfsl5utN4</td>\n",
       "      <td>Karen Khachanov v Frances Tiafoe Highlights | ...</td>\n",
       "      <td>Karen Khachanov</td>\n",
       "    </tr>\n",
       "    <tr>\n",
       "      <th>110</th>\n",
       "      <td>https://www.youtube.com/watch?v=5KZpdNavumM</td>\n",
       "      <td>Karen Khachanov v Sebastian Korda Highlights |...</td>\n",
       "      <td>Karen Khachanov</td>\n",
       "    </tr>\n",
       "    <tr>\n",
       "      <th>111</th>\n",
       "      <td>https://www.youtube.com/watch?v=00Xl6Q9mWmk</td>\n",
       "      <td>Nick Kyrgios vs Karen Khachanov - Match Highli...</td>\n",
       "      <td>Karen Khachanov</td>\n",
       "    </tr>\n",
       "    <tr>\n",
       "      <th>112</th>\n",
       "      <td>https://www.youtube.com/watch?v=OZQUYZLuzbc</td>\n",
       "      <td>Holger Rune v Soonwoo Kwon Extended Highlights...</td>\n",
       "      <td>Soonwoo Kwon</td>\n",
       "    </tr>\n",
       "    <tr>\n",
       "      <th>113</th>\n",
       "      <td>https://www.youtube.com/watch?v=1swLooJYfOY</td>\n",
       "      <td>Christopher Eubanks v Soonwoo Kwon Highlights ...</td>\n",
       "      <td>Soonwoo Kwon</td>\n",
       "    </tr>\n",
       "  </tbody>\n",
       "</table>\n",
       "<p>114 rows × 3 columns</p>\n",
       "</div>"
      ],
      "text/plain": [
       "                                             url  \\\n",
       "0    https://www.youtube.com/watch?v=87gmYTBO2bo   \n",
       "1    https://www.youtube.com/watch?v=enbx3eLRjmU   \n",
       "2    https://www.youtube.com/watch?v=27fU-e-tuQ0   \n",
       "3    https://www.youtube.com/watch?v=qCB2kFtHd3c   \n",
       "4    https://www.youtube.com/watch?v=-2pRgM36Rjs   \n",
       "..                                           ...   \n",
       "109  https://www.youtube.com/watch?v=SPkfsl5utN4   \n",
       "110  https://www.youtube.com/watch?v=5KZpdNavumM   \n",
       "111  https://www.youtube.com/watch?v=00Xl6Q9mWmk   \n",
       "112  https://www.youtube.com/watch?v=OZQUYZLuzbc   \n",
       "113  https://www.youtube.com/watch?v=1swLooJYfOY   \n",
       "\n",
       "                                                 title             name  \n",
       "0    Iga Swiatek v Elena Rybakina Full Match | Aust...   Elena Rybakina  \n",
       "1    Elena Rybakina v Victoria Azarenka Full Match ...   Elena Rybakina  \n",
       "2    Elena Rybakina v Danielle Collins Full Match |...   Elena Rybakina  \n",
       "3    Elena Rybakina v Jelena Ostapenko Full Match |...   Elena Rybakina  \n",
       "4    Elena Rybakina v Aryna Sabalenka Full Match | ...   Elena Rybakina  \n",
       "..                                                 ...              ...  \n",
       "109  Karen Khachanov v Frances Tiafoe Highlights | ...  Karen Khachanov  \n",
       "110  Karen Khachanov v Sebastian Korda Highlights |...  Karen Khachanov  \n",
       "111  Nick Kyrgios vs Karen Khachanov - Match Highli...  Karen Khachanov  \n",
       "112  Holger Rune v Soonwoo Kwon Extended Highlights...     Soonwoo Kwon  \n",
       "113  Christopher Eubanks v Soonwoo Kwon Highlights ...     Soonwoo Kwon  \n",
       "\n",
       "[114 rows x 3 columns]"
      ]
     },
     "execution_count": 2,
     "metadata": {},
     "output_type": "execute_result"
    }
   ],
   "source": [
    "df"
   ]
  },
  {
   "cell_type": "code",
   "execution_count": null,
   "id": "3fe4bfd7",
   "metadata": {
    "colab": {
     "base_uri": "https://localhost:8080/",
     "height": 1000
    },
    "id": "3fe4bfd7",
    "outputId": "a2bd009e-5aa2-470d-bfc7-235e86906ccf"
   },
   "outputs": [],
   "source": [
    "df2"
   ]
  },
  {
   "cell_type": "markdown",
   "id": "4681e902",
   "metadata": {
    "id": "4681e902"
   },
   "source": [
    "# Create Folder"
   ]
  },
  {
   "cell_type": "code",
   "execution_count": null,
   "id": "OEpJWyd3pBoP",
   "metadata": {
    "colab": {
     "base_uri": "https://localhost:8080/"
    },
    "id": "OEpJWyd3pBoP",
    "outputId": "f9242422-3b6d-4bb4-f9b0-c11838da9e39"
   },
   "outputs": [],
   "source": [
    "from google.colab import drive\n",
    "drive.mount('/content/drive')"
   ]
  },
  {
   "cell_type": "code",
   "execution_count": 3,
   "id": "d22444ac",
   "metadata": {
    "ExecuteTime": {
     "end_time": "2023-06-08T14:27:26.287142Z",
     "start_time": "2023-06-08T14:27:26.284099Z"
    },
    "id": "d22444ac"
   },
   "outputs": [],
   "source": [
    "def title_preprocessing(string):\n",
    "    match = re.search(r\"\\|([\\w\\s]+)$\", string)\n",
    "\n",
    "    if match:\n",
    "        result = match.group(1).strip()\n",
    "        #print(result)\n",
    "    else:\n",
    "        print(\"No match found.\")\n",
    "        result = 0\n",
    "    return result"
   ]
  },
  {
   "cell_type": "code",
   "execution_count": 17,
   "id": "juqVlo-XHEm3",
   "metadata": {
    "ExecuteTime": {
     "end_time": "2023-06-08T14:33:08.590957Z",
     "start_time": "2023-06-08T14:33:08.584948Z"
    },
    "id": "juqVlo-XHEm3"
   },
   "outputs": [],
   "source": [
    "def video_name(string):\n",
    "    string = re.sub(r'vs\\.?|v', 'vs', string)\n",
    "    try:\n",
    "        result = re.search(r'\\b\\w+\\b\\s+\\b\\w+\\b\\s+(?:vs\\.?|v)\\s+\\b\\w+\\b\\s+\\b\\w+\\b', string)\n",
    "        match_name = result.group()\n",
    "        print(result.group())\n",
    "    except:\n",
    "        match_name = string.split('|')[0].strip()\n",
    "    if match_name:\n",
    "        print(match_name)\n",
    "    else:\n",
    "        match_name = 0\n",
    "        print('None')\n",
    "    return match_name"
   ]
  },
  {
   "cell_type": "code",
   "execution_count": 8,
   "id": "19e41f65",
   "metadata": {
    "ExecuteTime": {
     "end_time": "2023-06-08T14:28:09.166458Z",
     "start_time": "2023-06-08T14:28:09.163289Z"
    }
   },
   "outputs": [
    {
     "name": "stdout",
     "output_type": "stream",
     "text": [
      "Roger Federer vs Novsak Djokovsic\n"
     ]
    }
   ],
   "source": [
    "import re\n",
    "\n",
    "match_name = \"Roger Federer v Novak Djokovic\"\n",
    "\n",
    "# Replace all occurrences of 'vs.' or 'v' with 'vs'\n",
    "match_name = re.sub(r'vs\\.?|v', 'vs', match_name)\n",
    "\n",
    "print(match_name)\n",
    "# Output: Roger Federer vs Novak Djokovic\n"
   ]
  },
  {
   "cell_type": "code",
   "execution_count": 18,
   "id": "6043f264",
   "metadata": {
    "ExecuteTime": {
     "end_time": "2023-06-08T14:33:11.655551Z",
     "start_time": "2023-06-08T14:33:11.586272Z"
    },
    "colab": {
     "base_uri": "https://localhost:8080/",
     "height": 1000
    },
    "id": "6043f264",
    "outputId": "4c47e30e-bf20-4a2c-f52d-8eb84c310f94"
   },
   "outputs": [
    {
     "name": "stdout",
     "output_type": "stream",
     "text": [
      "Iga Swiatek vs Elena Rybakina\n",
      "Iga Swiatek vs Elena Rybakina\n",
      "Elena Rybakina vs Victoria Azarenka\n",
      "Elena Rybakina vs Victoria Azarenka\n",
      "Elena Rybakina vs Danielle Collins\n",
      "Elena Rybakina vs Danielle Collins\n",
      "Elena Rybakina vs Jelena Ostapenko\n",
      "Elena Rybakina vs Jelena Ostapenko\n",
      "Elena Rybakina vs Aryna Sabalenka\n",
      "Elena Rybakina vs Aryna Sabalenka\n",
      "Iga Swiatek vs Elena Rybakina\n",
      "Iga Swiatek vs Elena Rybakina\n",
      "Iga Swiatek vs Elena Rybakina\n",
      "Iga Swiatek vs Elena Rybakina\n",
      "Aryna Sabalenka vs Elena Rybakina\n",
      "Aryna Sabalenka vs Elena Rybakina\n",
      "Victoria Azarenka vs Elena Rybakina\n",
      "Victoria Azarenka vs Elena Rybakina\n",
      "Elena Rybakina vs Victoria Azarenka\n",
      "Elena Rybakina vs Victoria Azarenka\n",
      "Elena Rybakina vs Kaja Juvsan\n",
      "Elena Rybakina vs Kaja Juvsan\n",
      "Elena Rybakina vs Victoria Azarenka\n",
      "Elena Rybakina vs Victoria Azarenka\n",
      "Elena Rybakina vs Jelena Ostapenko\n",
      "Elena Rybakina vs Jelena Ostapenko\n",
      "Elena Rybakina vs Jelena Ostapenko\n",
      "Elena Rybakina vs Jelena Ostapenko\n",
      "Elena Rybakina vs Aryna Sabalenka\n",
      "Elena Rybakina vs Aryna Sabalenka\n",
      "Elena Rybakina vs Kaja Juvsan\n",
      "Elena Rybakina vs Kaja Juvsan\n",
      "Elena Rybakina vs Danielle Collins\n",
      "Elena Rybakina vs Danielle Collins\n",
      "Iga Swiatek vs Elena Rybakina\n",
      "Iga Swiatek vs Elena Rybakina\n",
      "Elena Rybakina vs Elisabetta Cocciaretto\n",
      "Elena Rybakina vs Elisabetta Cocciaretto\n",
      "Elena Rybakina vs Aryna Sabalenka\n",
      "Elena Rybakina vs Aryna Sabalenka\n",
      "Elena Rybakina vs Danielle Collins\n",
      "Elena Rybakina vs Danielle Collins\n",
      "Elena Rybakina Press Conference Russkiy\n",
      "Elena Rybakina On-Court Intervsiew\n",
      "Elena Rybakina Press Conference\n",
      "Elena Rybakina On-Court Intervsiew\n",
      "Elena Rybakina vs Aryna Sabalenka\n",
      "Elena Rybakina vs Aryna Sabalenka\n",
      "Elena Rybakina vs Victoria Azarenka\n",
      "Elena Rybakina vs Victoria Azarenka\n",
      "Aryna Sabalenka vs Elena Rybakina\n",
      "Aryna Sabalenka vs Elena Rybakina\n",
      "Elena Rybakina Press Conference\n",
      "Daria Kasatkina vs Varvsara Grachevsa\n",
      "Daria Kasatkina vs Varvsara Grachevsa\n",
      "Iga Swiatek vs Daria Kasatkina\n",
      "Iga Swiatek vs Daria Kasatkina\n",
      "Aryna Sabalenka vs Daria Kasatkina\n",
      "Aryna Sabalenka vs Daria Kasatkina\n",
      "Iga Swiatek vs Daria Kasatkina\n",
      "Iga Swiatek vs Daria Kasatkina\n",
      "Magda Linette vs Daria Kasatkina\n",
      "Magda Linette vs Daria Kasatkina\n",
      "Veronika Kudermetovsa vs Maria Sakkari\n",
      "Veronika Kudermetovsa vs Maria Sakkari\n",
      "Veronika Kudermetovsa vs Marta Kostyuk\n",
      "Veronika Kudermetovsa vs Marta Kostyuk\n",
      "Veronika Kudermetovsa vs Claire Liu\n",
      "Veronika Kudermetovsa vs Claire Liu\n",
      "Magda Linette vs Ekaterina Alexandrovsa\n",
      "Magda Linette vs Ekaterina Alexandrovsa\n",
      "Ysaline Bonavsenture vs Ekaterina Alexandrovsa\n",
      "Ysaline Bonavsenture vs Ekaterina Alexandrovsa\n",
      "Taylor Townsend vs Ekaterina Alexandrovsa\n",
      "Taylor Townsend vs Ekaterina Alexandrovsa\n",
      "Magda Linette vs Ekaterina Alexandrovsa\n",
      "Magda Linette vs Ekaterina Alexandrovsa\n",
      "Magda Linette vs Ekaterina Alexandrovsa\n",
      "Magda Linette vs Ekaterina Alexandrovsa\n",
      "Karolina Pliskovsa vs Magda Linette\n",
      "Karolina Pliskovsa vs Magda Linette\n",
      "Anett Kontavseit vs Magda Linette\n",
      "Anett Kontavseit vs Magda Linette\n",
      "Anastasia Potapovsa vs Serena Williams\n",
      "Anastasia Potapovsa vs Serena Williams\n",
      "Anastasia Potapovsa vs Serena Williams\n",
      "Anastasia Potapovsa vs Serena Williams\n",
      "Aoyama/Shibahara vs Pegula/Gauff Extended Highlights\n",
      "Mackenzie McDonald vs Yoshihito Nishioka\n",
      "Mackenzie McDonald vs Yoshihito Nishioka\n",
      "Yoshihito Nishioka vs Karen Khachanovs\n",
      "Yoshihito Nishioka vs Karen Khachanovs\n",
      "Mackenzie McDonald vs Yoshihito Nishioka\n",
      "Mackenzie McDonald vs Yoshihito Nishioka\n",
      "Yoshihito Nishioka vs Karen Khachanovs\n",
      "Yoshihito Nishioka vs Karen Khachanovs\n",
      "Yoshihito Nishioka vs Novsak Djokovsic\n",
      "Yoshihito Nishioka vs Novsak Djokovsic\n",
      "Cabral/Sousa vs Cacic/Qureshi Highlights\n",
      "Nick Kyrgios vs Daniil Medvsedevs\n",
      "Nick Kyrgios vs Daniil Medvsedevs\n",
      "Stefanos Tsitsipas vs Daniil Medvsedevs\n",
      "Stefanos Tsitsipas vs Daniil Medvsedevs\n",
      "Felix Auger-Aliassime vs Daniil Medvsedevs Full Match (QF)\n",
      "Daniil Medvsedevs vs Stefanos Tsitsipas\n",
      "Daniil Medvsedevs vs Stefanos Tsitsipas\n",
      "Sebastian Korda vs Daniil Medvsedevs\n",
      "Sebastian Korda vs Daniil Medvsedevs\n",
      "Rafael Nadal vs Daniil Medvsedevs\n",
      "Rafael Nadal vs Daniil Medvsedevs\n",
      "Novsak Djokovsic vs Daniil Medvsedevs\n",
      "Novsak Djokovsic vs Daniil Medvsedevs\n",
      "Nick Kyrgios vs Daniil Medvsedevs\n",
      "Nick Kyrgios vs Daniil Medvsedevs\n",
      "Stefanos Tsitsipas vs Daniil Medvsedevs\n",
      "Stefanos Tsitsipas vs Daniil Medvsedevs\n",
      "Felix Auger-Aliassime vs Daniil Medvsedevs Condensed Match (QF)\n",
      "Rafael Nadal vs Daniil Medvsedevs\n",
      "Rafael Nadal vs Daniil Medvsedevs\n",
      "Sebastian Korda vs Daniil Medvsedevs\n",
      "Sebastian Korda vs Daniil Medvsedevs\n",
      "Sebastian Korda vs Daniil Medvsedevs\n",
      "Sebastian Korda vs Daniil Medvsedevs\n",
      "Rafael Nadal vs Daniil Medvsedevs\n",
      "Rafael Nadal vs Daniil Medvsedevs\n",
      "Rafael Nadal vs Daniil Medvsedevs\n",
      "Rafael Nadal vs Daniil Medvsedevs\n",
      "Daniil Medvsedevs vs Stan Wawrinka\n",
      "Daniil Medvsedevs vs Stan Wawrinka\n",
      "Andy Murray vs Roberto Bautista\n",
      "Andy Murray vs Roberto Bautista\n",
      "Nick Kyrgios vs Daniil Medvsedevs\n",
      "Nick Kyrgios vs Daniil Medvsedevs\n",
      "Daniil Medvsedevs vs Frances Tiafoe\n",
      "Daniil Medvsedevs vs Frances Tiafoe\n",
      "Andrey Rublevs vs Novsak Djokovsic\n",
      "Andrey Rublevs vs Novsak Djokovsic\n",
      "Andrey Rublevs vs Holger Rune\n",
      "Andrey Rublevs vs Holger Rune\n",
      "Andrey Rublevs vs Holger Rune\n",
      "Andrey Rublevs vs Holger Rune\n",
      "Andrey Rublevs vs Novsak Djokovsic\n",
      "Andrey Rublevs vs Novsak Djokovsic\n",
      "Andrey Rublevs vs Holger Rune\n",
      "Andrey Rublevs vs Holger Rune\n",
      "Andrey Rublevs vs Daniel Evsans\n",
      "Andrey Rublevs vs Daniel Evsans\n",
      "Andrey Rublevs vs Novsak Djokovsic\n",
      "Andrey Rublevs vs Novsak Djokovsic\n",
      "Andrey Rublevs vs Dominic Thiem\n",
      "Andrey Rublevs vs Dominic Thiem\n",
      "Andrey Rublevs vs Dominic Thiem\n",
      "Andrey Rublevs vs Dominic Thiem\n",
      "Novsak Djokovsic vs Andrey Rublevs\n",
      "Novsak Djokovsic vs Andrey Rublevs\n",
      "Andrey Rublevs vs Daniel Evsans\n",
      "Andrey Rublevs vs Daniel Evsans\n",
      "Andrey Rublevs vs Novsak Djokovsic\n",
      "Andrey Rublevs vs Novsak Djokovsic\n",
      "Andrey Rublevs vs Holger Rune\n",
      "Andrey Rublevs vs Holger Rune\n",
      "Rublevs and Pavslovsa-chenkovsa\n",
      "Rublevs vs Rune: A 5-Set Epic\n",
      "Andrey Rublevs On-Court Intervsiew\n",
      "Andrey Rublevs vs Daniil Medvsedevs\n",
      "Andrey Rublevs vs Daniil Medvsedevs\n",
      "Andrey Rublevs Top 10 Plays\n",
      "Andrey Rublevs vs Dominic Thiem\n",
      "Andrey Rublevs vs Dominic Thiem\n",
      "Karen Khachanovs vs Stefanos Tsitsipas\n",
      "Karen Khachanovs vs Stefanos Tsitsipas\n",
      "Karen Khachanovs vs Sebastian Korda\n",
      "Karen Khachanovs vs Sebastian Korda\n",
      "Yoshihito Nishioka vs Karen Khachanovs\n",
      "Yoshihito Nishioka vs Karen Khachanovs\n",
      "Karen Khachanovs vs Frances Tiafoe\n",
      "Karen Khachanovs vs Frances Tiafoe\n",
      "Karen Khachanovs vs Sebastian Korda\n",
      "Karen Khachanovs vs Sebastian Korda\n",
      "Karen Khachanovs vs Stefanos Tsitsipas\n",
      "Karen Khachanovs vs Stefanos Tsitsipas\n",
      "Karen Khachanovs vs Stefanos Tsitsipas\n",
      "Karen Khachanovs vs Stefanos Tsitsipas\n",
      "Karen Khachanovs vs Rafael Nadal\n",
      "Karen Khachanovs vs Rafael Nadal\n",
      "Nick Kyrgios vs Karen Khachanovs\n",
      "Nick Kyrgios vs Karen Khachanovs\n",
      "Karen Khachanovs vs Sebastian Korda\n",
      "Karen Khachanovs vs Sebastian Korda\n",
      "Yoshihito Nishioka vs Karen Khachanovs\n",
      "Yoshihito Nishioka vs Karen Khachanovs\n",
      "Karen Khachanovs vs Frances Tiafoe\n",
      "Karen Khachanovs vs Frances Tiafoe\n",
      "Nick Kyrgios vs Karen Khachanovs\n",
      "Nick Kyrgios vs Karen Khachanovs\n",
      "Karen Khachanovs vs Jason Kubler\n",
      "Karen Khachanovs vs Jason Kubler\n",
      "Karen Khachanovs vs Rafael Nadal\n",
      "Karen Khachanovs vs Rafael Nadal\n",
      "Karen Khachanovs vs Stefanos Tsitsipas\n",
      "Karen Khachanovs vs Stefanos Tsitsipas\n",
      "Karen Khachanovs vs Jason Kubler\n",
      "Karen Khachanovs vs Jason Kubler\n",
      "Sebastian Korda vs Daniil Medvsedevs\n",
      "Sebastian Korda vs Daniil Medvsedevs\n",
      "Karen Khachanovs vs Frances Tiafoe\n",
      "Karen Khachanovs vs Frances Tiafoe\n",
      "Karen Khachanovs vs Sebastian Korda\n",
      "Karen Khachanovs vs Sebastian Korda\n",
      "Nick Kyrgios vs Karen Khachanovs\n",
      "Nick Kyrgios vs Karen Khachanovs\n",
      "Holger Rune vs Soonwoo Kwon\n",
      "Holger Rune vs Soonwoo Kwon\n",
      "Christopher Eubanks vs Soonwoo Kwon\n",
      "Christopher Eubanks vs Soonwoo Kwon\n"
     ]
    },
    {
     "data": {
      "text/html": [
       "<div>\n",
       "<style scoped>\n",
       "    .dataframe tbody tr th:only-of-type {\n",
       "        vertical-align: middle;\n",
       "    }\n",
       "\n",
       "    .dataframe tbody tr th {\n",
       "        vertical-align: top;\n",
       "    }\n",
       "\n",
       "    .dataframe thead th {\n",
       "        text-align: right;\n",
       "    }\n",
       "</style>\n",
       "<table border=\"1\" class=\"dataframe\">\n",
       "  <thead>\n",
       "    <tr style=\"text-align: right;\">\n",
       "      <th></th>\n",
       "      <th>url</th>\n",
       "      <th>title</th>\n",
       "      <th>name</th>\n",
       "      <th>folder_title</th>\n",
       "      <th>video_name</th>\n",
       "    </tr>\n",
       "  </thead>\n",
       "  <tbody>\n",
       "    <tr>\n",
       "      <th>0</th>\n",
       "      <td>https://www.youtube.com/watch?v=87gmYTBO2bo</td>\n",
       "      <td>Iga Swiatek v Elena Rybakina Full Match | Aust...</td>\n",
       "      <td>Elena Rybakina</td>\n",
       "      <td>Australian Open 2023 Fourth Round</td>\n",
       "      <td>Iga Swiatek vs Elena Rybakina</td>\n",
       "    </tr>\n",
       "    <tr>\n",
       "      <th>1</th>\n",
       "      <td>https://www.youtube.com/watch?v=enbx3eLRjmU</td>\n",
       "      <td>Elena Rybakina v Victoria Azarenka Full Match ...</td>\n",
       "      <td>Elena Rybakina</td>\n",
       "      <td>Australian Open 2023 Semifinal</td>\n",
       "      <td>Elena Rybakina vs Victoria Azarenka</td>\n",
       "    </tr>\n",
       "    <tr>\n",
       "      <th>2</th>\n",
       "      <td>https://www.youtube.com/watch?v=27fU-e-tuQ0</td>\n",
       "      <td>Elena Rybakina v Danielle Collins Full Match |...</td>\n",
       "      <td>Elena Rybakina</td>\n",
       "      <td>Australian Open 2023 Third Round</td>\n",
       "      <td>Elena Rybakina vs Danielle Collins</td>\n",
       "    </tr>\n",
       "    <tr>\n",
       "      <th>3</th>\n",
       "      <td>https://www.youtube.com/watch?v=qCB2kFtHd3c</td>\n",
       "      <td>Elena Rybakina v Jelena Ostapenko Full Match |...</td>\n",
       "      <td>Elena Rybakina</td>\n",
       "      <td>Australian Open 2023 Quarterfinal</td>\n",
       "      <td>Elena Rybakina vs Jelena Ostapenko</td>\n",
       "    </tr>\n",
       "    <tr>\n",
       "      <th>4</th>\n",
       "      <td>https://www.youtube.com/watch?v=-2pRgM36Rjs</td>\n",
       "      <td>Elena Rybakina v Aryna Sabalenka Full Match | ...</td>\n",
       "      <td>Elena Rybakina</td>\n",
       "      <td>Australian Open 2023 Final</td>\n",
       "      <td>Elena Rybakina vs Aryna Sabalenka</td>\n",
       "    </tr>\n",
       "    <tr>\n",
       "      <th>...</th>\n",
       "      <td>...</td>\n",
       "      <td>...</td>\n",
       "      <td>...</td>\n",
       "      <td>...</td>\n",
       "      <td>...</td>\n",
       "    </tr>\n",
       "    <tr>\n",
       "      <th>109</th>\n",
       "      <td>https://www.youtube.com/watch?v=SPkfsl5utN4</td>\n",
       "      <td>Karen Khachanov v Frances Tiafoe Highlights | ...</td>\n",
       "      <td>Karen Khachanov</td>\n",
       "      <td>Australian Open 2023 Third Round</td>\n",
       "      <td>Karen Khachanovs vs Frances Tiafoe</td>\n",
       "    </tr>\n",
       "    <tr>\n",
       "      <th>110</th>\n",
       "      <td>https://www.youtube.com/watch?v=5KZpdNavumM</td>\n",
       "      <td>Karen Khachanov v Sebastian Korda Highlights |...</td>\n",
       "      <td>Karen Khachanov</td>\n",
       "      <td>Australian Open 2023 Quarterfinal</td>\n",
       "      <td>Karen Khachanovs vs Sebastian Korda</td>\n",
       "    </tr>\n",
       "    <tr>\n",
       "      <th>111</th>\n",
       "      <td>https://www.youtube.com/watch?v=00Xl6Q9mWmk</td>\n",
       "      <td>Nick Kyrgios vs Karen Khachanov - Match Highli...</td>\n",
       "      <td>Karen Khachanov</td>\n",
       "      <td>Australian Open 2020</td>\n",
       "      <td>Nick Kyrgios vs Karen Khachanovs</td>\n",
       "    </tr>\n",
       "    <tr>\n",
       "      <th>112</th>\n",
       "      <td>https://www.youtube.com/watch?v=OZQUYZLuzbc</td>\n",
       "      <td>Holger Rune v Soonwoo Kwon Extended Highlights...</td>\n",
       "      <td>Soonwoo Kwon</td>\n",
       "      <td>Australian Open 2022</td>\n",
       "      <td>Holger Rune vs Soonwoo Kwon</td>\n",
       "    </tr>\n",
       "    <tr>\n",
       "      <th>113</th>\n",
       "      <td>https://www.youtube.com/watch?v=1swLooJYfOY</td>\n",
       "      <td>Christopher Eubanks v Soonwoo Kwon Highlights ...</td>\n",
       "      <td>Soonwoo Kwon</td>\n",
       "      <td>Australian Open 2023 First Round</td>\n",
       "      <td>Christopher Eubanks vs Soonwoo Kwon</td>\n",
       "    </tr>\n",
       "  </tbody>\n",
       "</table>\n",
       "<p>114 rows × 5 columns</p>\n",
       "</div>"
      ],
      "text/plain": [
       "                                             url  \\\n",
       "0    https://www.youtube.com/watch?v=87gmYTBO2bo   \n",
       "1    https://www.youtube.com/watch?v=enbx3eLRjmU   \n",
       "2    https://www.youtube.com/watch?v=27fU-e-tuQ0   \n",
       "3    https://www.youtube.com/watch?v=qCB2kFtHd3c   \n",
       "4    https://www.youtube.com/watch?v=-2pRgM36Rjs   \n",
       "..                                           ...   \n",
       "109  https://www.youtube.com/watch?v=SPkfsl5utN4   \n",
       "110  https://www.youtube.com/watch?v=5KZpdNavumM   \n",
       "111  https://www.youtube.com/watch?v=00Xl6Q9mWmk   \n",
       "112  https://www.youtube.com/watch?v=OZQUYZLuzbc   \n",
       "113  https://www.youtube.com/watch?v=1swLooJYfOY   \n",
       "\n",
       "                                                 title             name  \\\n",
       "0    Iga Swiatek v Elena Rybakina Full Match | Aust...   Elena Rybakina   \n",
       "1    Elena Rybakina v Victoria Azarenka Full Match ...   Elena Rybakina   \n",
       "2    Elena Rybakina v Danielle Collins Full Match |...   Elena Rybakina   \n",
       "3    Elena Rybakina v Jelena Ostapenko Full Match |...   Elena Rybakina   \n",
       "4    Elena Rybakina v Aryna Sabalenka Full Match | ...   Elena Rybakina   \n",
       "..                                                 ...              ...   \n",
       "109  Karen Khachanov v Frances Tiafoe Highlights | ...  Karen Khachanov   \n",
       "110  Karen Khachanov v Sebastian Korda Highlights |...  Karen Khachanov   \n",
       "111  Nick Kyrgios vs Karen Khachanov - Match Highli...  Karen Khachanov   \n",
       "112  Holger Rune v Soonwoo Kwon Extended Highlights...     Soonwoo Kwon   \n",
       "113  Christopher Eubanks v Soonwoo Kwon Highlights ...     Soonwoo Kwon   \n",
       "\n",
       "                          folder_title                           video_name  \n",
       "0    Australian Open 2023 Fourth Round        Iga Swiatek vs Elena Rybakina  \n",
       "1       Australian Open 2023 Semifinal  Elena Rybakina vs Victoria Azarenka  \n",
       "2     Australian Open 2023 Third Round   Elena Rybakina vs Danielle Collins  \n",
       "3    Australian Open 2023 Quarterfinal   Elena Rybakina vs Jelena Ostapenko  \n",
       "4           Australian Open 2023 Final    Elena Rybakina vs Aryna Sabalenka  \n",
       "..                                 ...                                  ...  \n",
       "109   Australian Open 2023 Third Round   Karen Khachanovs vs Frances Tiafoe  \n",
       "110  Australian Open 2023 Quarterfinal  Karen Khachanovs vs Sebastian Korda  \n",
       "111               Australian Open 2020     Nick Kyrgios vs Karen Khachanovs  \n",
       "112               Australian Open 2022          Holger Rune vs Soonwoo Kwon  \n",
       "113   Australian Open 2023 First Round  Christopher Eubanks vs Soonwoo Kwon  \n",
       "\n",
       "[114 rows x 5 columns]"
      ]
     },
     "execution_count": 18,
     "metadata": {},
     "output_type": "execute_result"
    }
   ],
   "source": [
    "df[\"folder_title\"] = df[\"title\"].apply(title_preprocessing)\n",
    "df[\"video_name\"] = df[\"title\"].apply(video_name)\n",
    "df"
   ]
  },
  {
   "cell_type": "code",
   "execution_count": null,
   "id": "4d244b5a",
   "metadata": {
    "colab": {
     "base_uri": "https://localhost:8080/"
    },
    "id": "4d244b5a",
    "outputId": "7901d2a5-a1f9-41dd-d41a-2e5b8b8b2e9d"
   },
   "outputs": [],
   "source": [
    "def create_folder():\n",
    "    for i in sorted(df[\"folder_title\"].unique()):\n",
    "        print(i)\n",
    "        folder_name = 'drive/MyDrive/games/'+i\n",
    "        os.mkdir(folder_name)\n",
    "    print(\"Folder created successfully!\")\n",
    "    print(len(df[\"folder_title\"].unique()))\n",
    "create_folder()"
   ]
  },
  {
   "cell_type": "code",
   "execution_count": 19,
   "id": "35c2fa61",
   "metadata": {
    "ExecuteTime": {
     "end_time": "2023-06-08T14:34:32.435006Z",
     "start_time": "2023-06-08T14:34:32.278982Z"
    },
    "colab": {
     "base_uri": "https://localhost:8080/",
     "height": 727
    },
    "id": "35c2fa61",
    "outputId": "6fb46185-3cc7-46c9-f5b1-6032e40066b0"
   },
   "outputs": [
    {
     "data": {
      "text/html": [
       "<div>\n",
       "<style scoped>\n",
       "    .dataframe tbody tr th:only-of-type {\n",
       "        vertical-align: middle;\n",
       "    }\n",
       "\n",
       "    .dataframe tbody tr th {\n",
       "        vertical-align: top;\n",
       "    }\n",
       "\n",
       "    .dataframe thead th {\n",
       "        text-align: right;\n",
       "    }\n",
       "</style>\n",
       "<table border=\"1\" class=\"dataframe\">\n",
       "  <thead>\n",
       "    <tr style=\"text-align: right;\">\n",
       "      <th></th>\n",
       "      <th>url</th>\n",
       "      <th>title</th>\n",
       "      <th>name</th>\n",
       "      <th>folder_title</th>\n",
       "      <th>video_name</th>\n",
       "    </tr>\n",
       "  </thead>\n",
       "  <tbody>\n",
       "    <tr>\n",
       "      <th>0</th>\n",
       "      <td>https://www.youtube.com/watch?v=izlKM4HVKXQ</td>\n",
       "      <td>Rublev and Pavlova-chenkova  | AO Stars</td>\n",
       "      <td>Andrey Rublev</td>\n",
       "      <td>AO Stars</td>\n",
       "      <td>Rublevs and Pavslovsa-chenkovsa</td>\n",
       "    </tr>\n",
       "    <tr>\n",
       "      <th>1</th>\n",
       "      <td>https://www.youtube.com/watch?v=myKaH5YebZg</td>\n",
       "      <td>Andy Murray v Roberto Bautista Agut Full Match...</td>\n",
       "      <td>Daniil Medvedev</td>\n",
       "      <td>Australian Open 2019 First Round</td>\n",
       "      <td>Andy Murray vs Roberto Bautista</td>\n",
       "    </tr>\n",
       "    <tr>\n",
       "      <th>2</th>\n",
       "      <td>https://www.youtube.com/watch?v=kb7gBgM9q14</td>\n",
       "      <td>Yoshihito Nishioka vs Novak Djokovic - Match H...</td>\n",
       "      <td>Yoshihito Nishioka</td>\n",
       "      <td>Australian Open 2020</td>\n",
       "      <td>Yoshihito Nishioka vs Novsak Djokovsic</td>\n",
       "    </tr>\n",
       "    <tr>\n",
       "      <th>3</th>\n",
       "      <td>https://www.youtube.com/watch?v=00Xl6Q9mWmk</td>\n",
       "      <td>Nick Kyrgios vs Karen Khachanov - Match Highli...</td>\n",
       "      <td>Karen Khachanov</td>\n",
       "      <td>Australian Open 2020</td>\n",
       "      <td>Nick Kyrgios vs Karen Khachanovs</td>\n",
       "    </tr>\n",
       "    <tr>\n",
       "      <th>4</th>\n",
       "      <td>https://www.youtube.com/watch?v=n3LNgawuP2U</td>\n",
       "      <td>Anastasia Potapova vs Serena Williams - Extend...</td>\n",
       "      <td>Anastasia Potapova</td>\n",
       "      <td>Australian Open 2020</td>\n",
       "      <td>Anastasia Potapovsa vs Serena Williams</td>\n",
       "    </tr>\n",
       "    <tr>\n",
       "      <th>...</th>\n",
       "      <td>...</td>\n",
       "      <td>...</td>\n",
       "      <td>...</td>\n",
       "      <td>...</td>\n",
       "      <td>...</td>\n",
       "    </tr>\n",
       "    <tr>\n",
       "      <th>109</th>\n",
       "      <td>https://www.youtube.com/watch?v=i402MDwiHHo</td>\n",
       "      <td>Sebastian Korda v Daniil Medvedev Condensed Ma...</td>\n",
       "      <td>Daniil Medvedev</td>\n",
       "      <td>Australian Open 2023 Third Round</td>\n",
       "      <td>Sebastian Korda vs Daniil Medvsedevs</td>\n",
       "    </tr>\n",
       "    <tr>\n",
       "      <th>110</th>\n",
       "      <td>https://www.youtube.com/watch?v=lyIQyzqXUlY</td>\n",
       "      <td>Elena Rybakina v Danielle Collins Condensed Ma...</td>\n",
       "      <td>Elena Rybakina</td>\n",
       "      <td>Australian Open 2023 Third Round</td>\n",
       "      <td>Elena Rybakina vs Danielle Collins</td>\n",
       "    </tr>\n",
       "    <tr>\n",
       "      <th>111</th>\n",
       "      <td>https://www.youtube.com/watch?v=26Oz7fLSvlk</td>\n",
       "      <td>Andrey Rublev v Daniel Evans Condensed Match |...</td>\n",
       "      <td>Andrey Rublev</td>\n",
       "      <td>Australian Open 2023 Third Round</td>\n",
       "      <td>Andrey Rublevs vs Daniel Evsans</td>\n",
       "    </tr>\n",
       "    <tr>\n",
       "      <th>112</th>\n",
       "      <td>https://www.youtube.com/watch?v=CeXaiHlgDQk</td>\n",
       "      <td>Karen Khachanov v Frances Tiafoe Extended High...</td>\n",
       "      <td>Karen Khachanov</td>\n",
       "      <td>Australian Open 2023 Third Round</td>\n",
       "      <td>Karen Khachanovs vs Frances Tiafoe</td>\n",
       "    </tr>\n",
       "    <tr>\n",
       "      <th>113</th>\n",
       "      <td>https://www.youtube.com/watch?v=VNydnaCYlzE</td>\n",
       "      <td>Mackenzie McDonald v Yoshihito Nishioka Extend...</td>\n",
       "      <td>Yoshihito Nishioka</td>\n",
       "      <td>Australian Open 2023 Third Round</td>\n",
       "      <td>Mackenzie McDonald vs Yoshihito Nishioka</td>\n",
       "    </tr>\n",
       "  </tbody>\n",
       "</table>\n",
       "<p>114 rows × 5 columns</p>\n",
       "</div>"
      ],
      "text/plain": [
       "                                             url  \\\n",
       "0    https://www.youtube.com/watch?v=izlKM4HVKXQ   \n",
       "1    https://www.youtube.com/watch?v=myKaH5YebZg   \n",
       "2    https://www.youtube.com/watch?v=kb7gBgM9q14   \n",
       "3    https://www.youtube.com/watch?v=00Xl6Q9mWmk   \n",
       "4    https://www.youtube.com/watch?v=n3LNgawuP2U   \n",
       "..                                           ...   \n",
       "109  https://www.youtube.com/watch?v=i402MDwiHHo   \n",
       "110  https://www.youtube.com/watch?v=lyIQyzqXUlY   \n",
       "111  https://www.youtube.com/watch?v=26Oz7fLSvlk   \n",
       "112  https://www.youtube.com/watch?v=CeXaiHlgDQk   \n",
       "113  https://www.youtube.com/watch?v=VNydnaCYlzE   \n",
       "\n",
       "                                                 title                name  \\\n",
       "0              Rublev and Pavlova-chenkova  | AO Stars       Andrey Rublev   \n",
       "1    Andy Murray v Roberto Bautista Agut Full Match...     Daniil Medvedev   \n",
       "2    Yoshihito Nishioka vs Novak Djokovic - Match H...  Yoshihito Nishioka   \n",
       "3    Nick Kyrgios vs Karen Khachanov - Match Highli...     Karen Khachanov   \n",
       "4    Anastasia Potapova vs Serena Williams - Extend...  Anastasia Potapova   \n",
       "..                                                 ...                 ...   \n",
       "109  Sebastian Korda v Daniil Medvedev Condensed Ma...     Daniil Medvedev   \n",
       "110  Elena Rybakina v Danielle Collins Condensed Ma...      Elena Rybakina   \n",
       "111  Andrey Rublev v Daniel Evans Condensed Match |...       Andrey Rublev   \n",
       "112  Karen Khachanov v Frances Tiafoe Extended High...     Karen Khachanov   \n",
       "113  Mackenzie McDonald v Yoshihito Nishioka Extend...  Yoshihito Nishioka   \n",
       "\n",
       "                         folder_title  \\\n",
       "0                            AO Stars   \n",
       "1    Australian Open 2019 First Round   \n",
       "2                Australian Open 2020   \n",
       "3                Australian Open 2020   \n",
       "4                Australian Open 2020   \n",
       "..                                ...   \n",
       "109  Australian Open 2023 Third Round   \n",
       "110  Australian Open 2023 Third Round   \n",
       "111  Australian Open 2023 Third Round   \n",
       "112  Australian Open 2023 Third Round   \n",
       "113  Australian Open 2023 Third Round   \n",
       "\n",
       "                                   video_name  \n",
       "0             Rublevs and Pavslovsa-chenkovsa  \n",
       "1             Andy Murray vs Roberto Bautista  \n",
       "2      Yoshihito Nishioka vs Novsak Djokovsic  \n",
       "3            Nick Kyrgios vs Karen Khachanovs  \n",
       "4      Anastasia Potapovsa vs Serena Williams  \n",
       "..                                        ...  \n",
       "109      Sebastian Korda vs Daniil Medvsedevs  \n",
       "110        Elena Rybakina vs Danielle Collins  \n",
       "111           Andrey Rublevs vs Daniel Evsans  \n",
       "112        Karen Khachanovs vs Frances Tiafoe  \n",
       "113  Mackenzie McDonald vs Yoshihito Nishioka  \n",
       "\n",
       "[114 rows x 5 columns]"
      ]
     },
     "execution_count": 19,
     "metadata": {},
     "output_type": "execute_result"
    }
   ],
   "source": [
    "df_sorted = df.sort_values(\"folder_title\").reset_index(drop=True)\n",
    "df_sorted"
   ]
  },
  {
   "cell_type": "code",
   "execution_count": 22,
   "id": "68dec97a",
   "metadata": {
    "ExecuteTime": {
     "end_time": "2023-06-08T14:58:57.224177Z",
     "start_time": "2023-06-08T14:58:54.877750Z"
    },
    "collapsed": true
   },
   "outputs": [
    {
     "ename": "KeyError",
     "evalue": "\"['title', 'name'] not found in axis\"",
     "output_type": "error",
     "traceback": [
      "\u001b[0;31m---------------------------------------------------------------------------\u001b[0m",
      "\u001b[0;31mKeyError\u001b[0m                                  Traceback (most recent call last)",
      "Input \u001b[0;32mIn [22]\u001b[0m, in \u001b[0;36m<cell line: 1>\u001b[0;34m()\u001b[0m\n\u001b[0;32m----> 1\u001b[0m \u001b[43mdf_sorted\u001b[49m\u001b[38;5;241;43m.\u001b[39;49m\u001b[43mdrop\u001b[49m\u001b[43m(\u001b[49m\u001b[43mcolumns\u001b[49m\u001b[38;5;241;43m=\u001b[39;49m\u001b[43m[\u001b[49m\u001b[38;5;124;43m\"\u001b[39;49m\u001b[38;5;124;43mtitle\u001b[39;49m\u001b[38;5;124;43m\"\u001b[39;49m\u001b[43m,\u001b[49m\u001b[38;5;124;43m\"\u001b[39;49m\u001b[38;5;124;43mname\u001b[39;49m\u001b[38;5;124;43m\"\u001b[39;49m\u001b[43m]\u001b[49m\u001b[43m,\u001b[49m\u001b[43minplace\u001b[49m\u001b[43m \u001b[49m\u001b[38;5;241;43m=\u001b[39;49m\u001b[43m \u001b[49m\u001b[38;5;28;43;01mTrue\u001b[39;49;00m\u001b[43m)\u001b[49m\n\u001b[1;32m      2\u001b[0m df_sorted\u001b[38;5;241m.\u001b[39mto_csv(\u001b[38;5;124m\"\u001b[39m\u001b[38;5;124mAus_2019_2023.xlsx\u001b[39m\u001b[38;5;124m\"\u001b[39m)\n",
      "File \u001b[0;32m~/anaconda3/lib/python3.9/site-packages/pandas/util/_decorators.py:311\u001b[0m, in \u001b[0;36mdeprecate_nonkeyword_arguments.<locals>.decorate.<locals>.wrapper\u001b[0;34m(*args, **kwargs)\u001b[0m\n\u001b[1;32m    305\u001b[0m \u001b[38;5;28;01mif\u001b[39;00m \u001b[38;5;28mlen\u001b[39m(args) \u001b[38;5;241m>\u001b[39m num_allow_args:\n\u001b[1;32m    306\u001b[0m     warnings\u001b[38;5;241m.\u001b[39mwarn(\n\u001b[1;32m    307\u001b[0m         msg\u001b[38;5;241m.\u001b[39mformat(arguments\u001b[38;5;241m=\u001b[39marguments),\n\u001b[1;32m    308\u001b[0m         \u001b[38;5;167;01mFutureWarning\u001b[39;00m,\n\u001b[1;32m    309\u001b[0m         stacklevel\u001b[38;5;241m=\u001b[39mstacklevel,\n\u001b[1;32m    310\u001b[0m     )\n\u001b[0;32m--> 311\u001b[0m \u001b[38;5;28;01mreturn\u001b[39;00m \u001b[43mfunc\u001b[49m\u001b[43m(\u001b[49m\u001b[38;5;241;43m*\u001b[39;49m\u001b[43margs\u001b[49m\u001b[43m,\u001b[49m\u001b[43m \u001b[49m\u001b[38;5;241;43m*\u001b[39;49m\u001b[38;5;241;43m*\u001b[39;49m\u001b[43mkwargs\u001b[49m\u001b[43m)\u001b[49m\n",
      "File \u001b[0;32m~/anaconda3/lib/python3.9/site-packages/pandas/core/frame.py:4954\u001b[0m, in \u001b[0;36mDataFrame.drop\u001b[0;34m(self, labels, axis, index, columns, level, inplace, errors)\u001b[0m\n\u001b[1;32m   4806\u001b[0m \u001b[38;5;129m@deprecate_nonkeyword_arguments\u001b[39m(version\u001b[38;5;241m=\u001b[39m\u001b[38;5;28;01mNone\u001b[39;00m, allowed_args\u001b[38;5;241m=\u001b[39m[\u001b[38;5;124m\"\u001b[39m\u001b[38;5;124mself\u001b[39m\u001b[38;5;124m\"\u001b[39m, \u001b[38;5;124m\"\u001b[39m\u001b[38;5;124mlabels\u001b[39m\u001b[38;5;124m\"\u001b[39m])\n\u001b[1;32m   4807\u001b[0m \u001b[38;5;28;01mdef\u001b[39;00m \u001b[38;5;21mdrop\u001b[39m(\n\u001b[1;32m   4808\u001b[0m     \u001b[38;5;28mself\u001b[39m,\n\u001b[0;32m   (...)\u001b[0m\n\u001b[1;32m   4815\u001b[0m     errors: \u001b[38;5;28mstr\u001b[39m \u001b[38;5;241m=\u001b[39m \u001b[38;5;124m\"\u001b[39m\u001b[38;5;124mraise\u001b[39m\u001b[38;5;124m\"\u001b[39m,\n\u001b[1;32m   4816\u001b[0m ):\n\u001b[1;32m   4817\u001b[0m \u001b[38;5;250m    \u001b[39m\u001b[38;5;124;03m\"\"\"\u001b[39;00m\n\u001b[1;32m   4818\u001b[0m \u001b[38;5;124;03m    Drop specified labels from rows or columns.\u001b[39;00m\n\u001b[1;32m   4819\u001b[0m \n\u001b[0;32m   (...)\u001b[0m\n\u001b[1;32m   4952\u001b[0m \u001b[38;5;124;03m            weight  1.0     0.8\u001b[39;00m\n\u001b[1;32m   4953\u001b[0m \u001b[38;5;124;03m    \"\"\"\u001b[39;00m\n\u001b[0;32m-> 4954\u001b[0m     \u001b[38;5;28;01mreturn\u001b[39;00m \u001b[38;5;28;43msuper\u001b[39;49m\u001b[43m(\u001b[49m\u001b[43m)\u001b[49m\u001b[38;5;241;43m.\u001b[39;49m\u001b[43mdrop\u001b[49m\u001b[43m(\u001b[49m\n\u001b[1;32m   4955\u001b[0m \u001b[43m        \u001b[49m\u001b[43mlabels\u001b[49m\u001b[38;5;241;43m=\u001b[39;49m\u001b[43mlabels\u001b[49m\u001b[43m,\u001b[49m\n\u001b[1;32m   4956\u001b[0m \u001b[43m        \u001b[49m\u001b[43maxis\u001b[49m\u001b[38;5;241;43m=\u001b[39;49m\u001b[43maxis\u001b[49m\u001b[43m,\u001b[49m\n\u001b[1;32m   4957\u001b[0m \u001b[43m        \u001b[49m\u001b[43mindex\u001b[49m\u001b[38;5;241;43m=\u001b[39;49m\u001b[43mindex\u001b[49m\u001b[43m,\u001b[49m\n\u001b[1;32m   4958\u001b[0m \u001b[43m        \u001b[49m\u001b[43mcolumns\u001b[49m\u001b[38;5;241;43m=\u001b[39;49m\u001b[43mcolumns\u001b[49m\u001b[43m,\u001b[49m\n\u001b[1;32m   4959\u001b[0m \u001b[43m        \u001b[49m\u001b[43mlevel\u001b[49m\u001b[38;5;241;43m=\u001b[39;49m\u001b[43mlevel\u001b[49m\u001b[43m,\u001b[49m\n\u001b[1;32m   4960\u001b[0m \u001b[43m        \u001b[49m\u001b[43minplace\u001b[49m\u001b[38;5;241;43m=\u001b[39;49m\u001b[43minplace\u001b[49m\u001b[43m,\u001b[49m\n\u001b[1;32m   4961\u001b[0m \u001b[43m        \u001b[49m\u001b[43merrors\u001b[49m\u001b[38;5;241;43m=\u001b[39;49m\u001b[43merrors\u001b[49m\u001b[43m,\u001b[49m\n\u001b[1;32m   4962\u001b[0m \u001b[43m    \u001b[49m\u001b[43m)\u001b[49m\n",
      "File \u001b[0;32m~/anaconda3/lib/python3.9/site-packages/pandas/core/generic.py:4267\u001b[0m, in \u001b[0;36mNDFrame.drop\u001b[0;34m(self, labels, axis, index, columns, level, inplace, errors)\u001b[0m\n\u001b[1;32m   4265\u001b[0m \u001b[38;5;28;01mfor\u001b[39;00m axis, labels \u001b[38;5;129;01min\u001b[39;00m axes\u001b[38;5;241m.\u001b[39mitems():\n\u001b[1;32m   4266\u001b[0m     \u001b[38;5;28;01mif\u001b[39;00m labels \u001b[38;5;129;01mis\u001b[39;00m \u001b[38;5;129;01mnot\u001b[39;00m \u001b[38;5;28;01mNone\u001b[39;00m:\n\u001b[0;32m-> 4267\u001b[0m         obj \u001b[38;5;241m=\u001b[39m \u001b[43mobj\u001b[49m\u001b[38;5;241;43m.\u001b[39;49m\u001b[43m_drop_axis\u001b[49m\u001b[43m(\u001b[49m\u001b[43mlabels\u001b[49m\u001b[43m,\u001b[49m\u001b[43m \u001b[49m\u001b[43maxis\u001b[49m\u001b[43m,\u001b[49m\u001b[43m \u001b[49m\u001b[43mlevel\u001b[49m\u001b[38;5;241;43m=\u001b[39;49m\u001b[43mlevel\u001b[49m\u001b[43m,\u001b[49m\u001b[43m \u001b[49m\u001b[43merrors\u001b[49m\u001b[38;5;241;43m=\u001b[39;49m\u001b[43merrors\u001b[49m\u001b[43m)\u001b[49m\n\u001b[1;32m   4269\u001b[0m \u001b[38;5;28;01mif\u001b[39;00m inplace:\n\u001b[1;32m   4270\u001b[0m     \u001b[38;5;28mself\u001b[39m\u001b[38;5;241m.\u001b[39m_update_inplace(obj)\n",
      "File \u001b[0;32m~/anaconda3/lib/python3.9/site-packages/pandas/core/generic.py:4311\u001b[0m, in \u001b[0;36mNDFrame._drop_axis\u001b[0;34m(self, labels, axis, level, errors, consolidate, only_slice)\u001b[0m\n\u001b[1;32m   4309\u001b[0m         new_axis \u001b[38;5;241m=\u001b[39m axis\u001b[38;5;241m.\u001b[39mdrop(labels, level\u001b[38;5;241m=\u001b[39mlevel, errors\u001b[38;5;241m=\u001b[39merrors)\n\u001b[1;32m   4310\u001b[0m     \u001b[38;5;28;01melse\u001b[39;00m:\n\u001b[0;32m-> 4311\u001b[0m         new_axis \u001b[38;5;241m=\u001b[39m \u001b[43maxis\u001b[49m\u001b[38;5;241;43m.\u001b[39;49m\u001b[43mdrop\u001b[49m\u001b[43m(\u001b[49m\u001b[43mlabels\u001b[49m\u001b[43m,\u001b[49m\u001b[43m \u001b[49m\u001b[43merrors\u001b[49m\u001b[38;5;241;43m=\u001b[39;49m\u001b[43merrors\u001b[49m\u001b[43m)\u001b[49m\n\u001b[1;32m   4312\u001b[0m     indexer \u001b[38;5;241m=\u001b[39m axis\u001b[38;5;241m.\u001b[39mget_indexer(new_axis)\n\u001b[1;32m   4314\u001b[0m \u001b[38;5;66;03m# Case for non-unique axis\u001b[39;00m\n\u001b[1;32m   4315\u001b[0m \u001b[38;5;28;01melse\u001b[39;00m:\n",
      "File \u001b[0;32m~/anaconda3/lib/python3.9/site-packages/pandas/core/indexes/base.py:6644\u001b[0m, in \u001b[0;36mIndex.drop\u001b[0;34m(self, labels, errors)\u001b[0m\n\u001b[1;32m   6642\u001b[0m \u001b[38;5;28;01mif\u001b[39;00m mask\u001b[38;5;241m.\u001b[39many():\n\u001b[1;32m   6643\u001b[0m     \u001b[38;5;28;01mif\u001b[39;00m errors \u001b[38;5;241m!=\u001b[39m \u001b[38;5;124m\"\u001b[39m\u001b[38;5;124mignore\u001b[39m\u001b[38;5;124m\"\u001b[39m:\n\u001b[0;32m-> 6644\u001b[0m         \u001b[38;5;28;01mraise\u001b[39;00m \u001b[38;5;167;01mKeyError\u001b[39;00m(\u001b[38;5;124mf\u001b[39m\u001b[38;5;124m\"\u001b[39m\u001b[38;5;132;01m{\u001b[39;00m\u001b[38;5;28mlist\u001b[39m(labels[mask])\u001b[38;5;132;01m}\u001b[39;00m\u001b[38;5;124m not found in axis\u001b[39m\u001b[38;5;124m\"\u001b[39m)\n\u001b[1;32m   6645\u001b[0m     indexer \u001b[38;5;241m=\u001b[39m indexer[\u001b[38;5;241m~\u001b[39mmask]\n\u001b[1;32m   6646\u001b[0m \u001b[38;5;28;01mreturn\u001b[39;00m \u001b[38;5;28mself\u001b[39m\u001b[38;5;241m.\u001b[39mdelete(indexer)\n",
      "\u001b[0;31mKeyError\u001b[0m: \"['title', 'name'] not found in axis\""
     ]
    }
   ],
   "source": [
    "df_sorted.drop(columns=[\"title\",\"name\"],inplace = True)"
   ]
  },
  {
   "cell_type": "code",
   "execution_count": 49,
   "id": "31c1bf95",
   "metadata": {
    "ExecuteTime": {
     "end_time": "2023-06-08T15:22:00.644003Z",
     "start_time": "2023-06-08T15:22:00.640362Z"
    }
   },
   "outputs": [],
   "source": [
    "df_sorted.to_csv(\"Aus_2019_2023.csv\")"
   ]
  },
  {
   "cell_type": "code",
   "execution_count": 50,
   "id": "052e02de",
   "metadata": {
    "ExecuteTime": {
     "end_time": "2023-06-08T15:22:01.929907Z",
     "start_time": "2023-06-08T15:22:01.925838Z"
    }
   },
   "outputs": [],
   "source": [
    "df3 = pd.DataFrame(df_sorted[\"folder_title\"].unique()).to_csv(\"Aus_folders.csv\", index=True)"
   ]
  },
  {
   "cell_type": "code",
   "execution_count": 47,
   "id": "d1243146",
   "metadata": {
    "ExecuteTime": {
     "end_time": "2023-06-08T15:20:17.290535Z",
     "start_time": "2023-06-08T15:20:17.281768Z"
    }
   },
   "outputs": [
    {
     "data": {
      "text/plain": [
       "'AO Stars'"
      ]
     },
     "execution_count": 47,
     "metadata": {},
     "output_type": "execute_result"
    }
   ],
   "source": [
    "df4 = pd.read_csv(\"Aus_2019_2023.csv\")\n",
    "df4.iloc[0,1]"
   ]
  },
  {
   "cell_type": "code",
   "execution_count": 64,
   "id": "c1c081bf",
   "metadata": {
    "ExecuteTime": {
     "end_time": "2023-06-09T07:59:01.580664Z",
     "start_time": "2023-06-09T07:59:01.570494Z"
    }
   },
   "outputs": [
    {
     "data": {
      "text/plain": [
       "'/home/fish/Documents/AI_Computer_Vision/Yolo/Detection/chopping'"
      ]
     },
     "execution_count": 64,
     "metadata": {},
     "output_type": "execute_result"
    }
   ],
   "source": [
    "%pwd"
   ]
  },
  {
   "cell_type": "markdown",
   "id": "381f1cb7",
   "metadata": {
    "id": "381f1cb7"
   },
   "source": [
    "# Download"
   ]
  },
  {
   "cell_type": "code",
   "execution_count": 57,
   "id": "639a49b3",
   "metadata": {
    "ExecuteTime": {
     "end_time": "2023-06-09T07:41:12.901912Z",
     "start_time": "2023-06-09T07:41:12.885231Z"
    },
    "id": "639a49b3"
   },
   "outputs": [],
   "source": [
    "from tqdm import tqdm\n",
    "\n",
    "def on_progress_callback(stream, chunk, bytes_remaining):\n",
    "    total_size = stream.filesize # total volume\n",
    "    bytes_downloaded = total_size - bytes_remaining\n",
    "    progress = bytes_downloaded / total_size * 100\n",
    "    tqdm_bar.update(progress - tqdm_bar.n)\n",
    "\n",
    "def tube_download(link, output_dir, file_name):\n",
    "    # Create a YouTube object\n",
    "    video = YouTube(link)\n",
    "\n",
    "    # Get the highest resolution video stream\n",
    "    stream = video.streams.get_highest_resolution()\n",
    "\n",
    "    # Create a progress bar for the download\n",
    "    global tqdm_bar\n",
    "    tqdm_bar = tqdm(total=stream.filesize, unit=\"bytes\", unit_scale=True)\n",
    "\n",
    "    # Register the progress callback function\n",
    "    video.register_on_progress_callback(on_progress_callback)\n",
    "\n",
    "    # Download the video to the specified directory with the specified file name\n",
    "    stream.download(output_path=output_dir, filename=file_name + '.' + stream.subtype)\n",
    "\n",
    "    # Close the progress bar when the download is complete\n",
    "    tqdm_bar.close()"
   ]
  },
  {
   "cell_type": "code",
   "execution_count": null,
   "id": "e92-xR8JQBy5",
   "metadata": {
    "colab": {
     "base_uri": "https://localhost:8080/",
     "height": 727
    },
    "id": "e92-xR8JQBy5",
    "outputId": "9764b7b5-9942-4f36-9c55-c2bbc1b73a30"
   },
   "outputs": [],
   "source": [
    "df_sorted"
   ]
  },
  {
   "cell_type": "code",
   "execution_count": null,
   "id": "57ce35e6",
   "metadata": {
    "colab": {
     "base_uri": "https://localhost:8080/"
    },
    "id": "57ce35e6",
    "outputId": "4d3a0fd8-d246-4ccd-f222-34ebc78bc0e9"
   },
   "outputs": [],
   "source": [
    "for i in range(len(df_sorted[\"url\"])):\n",
    "    try:\n",
    "      tube_download(df_sorted[\"url\"][i], \"drive/MyDrive/games/\"+df_sorted[\"folder_title\"][i], df_sorted[\"video_name\"][i])\n",
    "    except:\n",
    "      url = df_sorted[\"url\"][i]\n",
    "      print(f\"{url} in {i} - fail\")"
   ]
  },
  {
   "cell_type": "code",
   "execution_count": 60,
   "id": "99586a3c",
   "metadata": {
    "ExecuteTime": {
     "end_time": "2023-06-09T07:43:20.935492Z",
     "start_time": "2023-06-09T07:43:20.913141Z"
    }
   },
   "outputs": [
    {
     "data": {
      "text/html": [
       "<div>\n",
       "<style scoped>\n",
       "    .dataframe tbody tr th:only-of-type {\n",
       "        vertical-align: middle;\n",
       "    }\n",
       "\n",
       "    .dataframe tbody tr th {\n",
       "        vertical-align: top;\n",
       "    }\n",
       "\n",
       "    .dataframe thead th {\n",
       "        text-align: right;\n",
       "    }\n",
       "</style>\n",
       "<table border=\"1\" class=\"dataframe\">\n",
       "  <thead>\n",
       "    <tr style=\"text-align: right;\">\n",
       "      <th></th>\n",
       "      <th>url</th>\n",
       "      <th>folder_title</th>\n",
       "      <th>video_name</th>\n",
       "    </tr>\n",
       "  </thead>\n",
       "  <tbody>\n",
       "    <tr>\n",
       "      <th>0</th>\n",
       "      <td>https://www.youtube.com/watch?v=kb7gBgM9q14</td>\n",
       "      <td>Australian Open 2020</td>\n",
       "      <td>Yoshihito Nishioka vs Novsak Djokovsic</td>\n",
       "    </tr>\n",
       "    <tr>\n",
       "      <th>1</th>\n",
       "      <td>https://www.youtube.com/watch?v=NDXdEDAWvvs</td>\n",
       "      <td>Australian Open 2023 Fourth Round</td>\n",
       "      <td>Yoshihito Nishioka vs Karen Khachanovs</td>\n",
       "    </tr>\n",
       "    <tr>\n",
       "      <th>2</th>\n",
       "      <td>https://www.youtube.com/watch?v=NDXdEDAWvvs</td>\n",
       "      <td>Australian Open 2023 Fourth Round</td>\n",
       "      <td>Yoshihito Nishioka vs Karen Khachanovs</td>\n",
       "    </tr>\n",
       "    <tr>\n",
       "      <th>3</th>\n",
       "      <td>https://www.youtube.com/watch?v=yBmtPQOqErc</td>\n",
       "      <td>Australian Open 2023 Fourth Round</td>\n",
       "      <td>Yoshihito Nishioka vs Karen Khachanovs</td>\n",
       "    </tr>\n",
       "    <tr>\n",
       "      <th>4</th>\n",
       "      <td>https://www.youtube.com/watch?v=yBmtPQOqErc</td>\n",
       "      <td>Australian Open 2023 Fourth Round</td>\n",
       "      <td>Yoshihito Nishioka vs Karen Khachanovs</td>\n",
       "    </tr>\n",
       "    <tr>\n",
       "      <th>5</th>\n",
       "      <td>https://www.youtube.com/watch?v=JWlV2-e-drU</td>\n",
       "      <td>Australian Open 2023 Third Round</td>\n",
       "      <td>Mackenzie McDonald vs Yoshihito Nishioka</td>\n",
       "    </tr>\n",
       "    <tr>\n",
       "      <th>6</th>\n",
       "      <td>https://www.youtube.com/watch?v=VNydnaCYlzE</td>\n",
       "      <td>Australian Open 2023 Third Round</td>\n",
       "      <td>Mackenzie McDonald vs Yoshihito Nishioka</td>\n",
       "    </tr>\n",
       "  </tbody>\n",
       "</table>\n",
       "</div>"
      ],
      "text/plain": [
       "                                           url  \\\n",
       "0  https://www.youtube.com/watch?v=kb7gBgM9q14   \n",
       "1  https://www.youtube.com/watch?v=NDXdEDAWvvs   \n",
       "2  https://www.youtube.com/watch?v=NDXdEDAWvvs   \n",
       "3  https://www.youtube.com/watch?v=yBmtPQOqErc   \n",
       "4  https://www.youtube.com/watch?v=yBmtPQOqErc   \n",
       "5  https://www.youtube.com/watch?v=JWlV2-e-drU   \n",
       "6  https://www.youtube.com/watch?v=VNydnaCYlzE   \n",
       "\n",
       "                        folder_title                                video_name  \n",
       "0               Australian Open 2020    Yoshihito Nishioka vs Novsak Djokovsic  \n",
       "1  Australian Open 2023 Fourth Round    Yoshihito Nishioka vs Karen Khachanovs  \n",
       "2  Australian Open 2023 Fourth Round    Yoshihito Nishioka vs Karen Khachanovs  \n",
       "3  Australian Open 2023 Fourth Round    Yoshihito Nishioka vs Karen Khachanovs  \n",
       "4  Australian Open 2023 Fourth Round    Yoshihito Nishioka vs Karen Khachanovs  \n",
       "5   Australian Open 2023 Third Round  Mackenzie McDonald vs Yoshihito Nishioka  \n",
       "6   Australian Open 2023 Third Round  Mackenzie McDonald vs Yoshihito Nishioka  "
      ]
     },
     "execution_count": 60,
     "metadata": {},
     "output_type": "execute_result"
    }
   ],
   "source": [
    "mask = df_sorted[\"video_name\"].str.contains(\"Yoshihito\")\n",
    "filter_df = df_sorted[mask].reset_index(drop=True)\n",
    "filter_df"
   ]
  },
  {
   "cell_type": "code",
   "execution_count": 68,
   "id": "84465667",
   "metadata": {
    "ExecuteTime": {
     "end_time": "2023-06-09T08:56:24.817277Z",
     "start_time": "2023-06-09T08:54:16.314582Z"
    }
   },
   "outputs": [
    {
     "name": "stderr",
     "output_type": "stream",
     "text": [
      "\n",
      "\n",
      "  0%|                                           | 0.00/13.3M [00:00<?, ?bytes/s]\u001b[A\u001b[A\n",
      "\n",
      "\n",
      "  0%|                                           | 0.00/88.9M [00:00<?, ?bytes/s]\u001b[A\u001b[A\n",
      "\n",
      "  0%|                               | 10.6/88.9M [00:02<6202:26:42, 3.98bytes/s]\u001b[A\u001b[A\n",
      "\n",
      "  0%|                               | 21.2/88.9M [00:05<6306:32:09, 3.92bytes/s]\u001b[A\u001b[A\n",
      "\n",
      "  0%|                               | 31.8/88.9M [00:07<6017:23:05, 4.10bytes/s]\u001b[A\u001b[A\n",
      "\n",
      "  0%|                               | 42.5/88.9M [00:09<5608:04:25, 4.40bytes/s]\u001b[A\u001b[A\n",
      "\n",
      "  0%|                               | 53.1/88.9M [00:12<5381:29:23, 4.59bytes/s]\u001b[A\u001b[A\n",
      "\n",
      "  0%|                               | 63.7/88.9M [00:14<5760:31:15, 4.29bytes/s]\u001b[A\u001b[A\n",
      "\n",
      "  0%|                               | 74.3/88.9M [00:17<5538:18:23, 4.46bytes/s]\u001b[A\u001b[A\n",
      "\n",
      "  0%|                               | 84.9/88.9M [00:19<5669:52:21, 4.36bytes/s]\u001b[A\u001b[A\n",
      "\n",
      "  0%|                               | 95.5/88.9M [00:23<6800:50:24, 3.63bytes/s]\u001b[A\u001b[A\n",
      "\n",
      "  0%|                                | 100/88.9M [00:25<6250:07:05, 3.95bytes/s]\u001b[A\u001b[A\n",
      "\n",
      "\n",
      "  0%|                                           | 0.00/88.9M [00:00<?, ?bytes/s]\u001b[A\u001b[A\n",
      "\n",
      "\n",
      "  0%|                                           | 0.00/28.5M [00:00<?, ?bytes/s]\u001b[A\u001b[A\n",
      "\n",
      "  0%|                                | 33.1/28.5M [00:02<699:18:57, 11.3bytes/s]\u001b[A\u001b[A\n",
      "\n",
      "  0%|                                | 66.2/28.5M [00:05<689:11:02, 11.5bytes/s]\u001b[A\u001b[A\n",
      "\n",
      "  0%|                                 | 100/28.5M [00:09<738:39:37, 10.7bytes/s]\u001b[A\u001b[A\n",
      "\n",
      "\n",
      "  0%|                                           | 0.00/28.5M [00:00<?, ?bytes/s]\u001b[A\u001b[A\n",
      "\n",
      "\n",
      "  0%|                                            | 0.00/215M [00:00<?, ?bytes/s]\u001b[A\u001b[A\n",
      "\n",
      "  0%|                               | 4.40/215M [00:06<89906:48:03, 1.51s/bytes]\u001b[A\u001b[A\n",
      "\n",
      "  0%|                               | 8.79/215M [00:09<57833:32:24, 1.03bytes/s]\u001b[A\u001b[A\n",
      "\n",
      "  0%|                               | 13.2/215M [00:12<50856:10:55, 1.17bytes/s]\u001b[A\u001b[A\n",
      "\n",
      "  0%|                               | 17.6/215M [00:15<46298:48:09, 1.29bytes/s]\u001b[A\u001b[A\n",
      "\n",
      "  0%|                               | 22.0/215M [00:18<46612:37:10, 1.28bytes/s]\u001b[A\u001b[A\n",
      "\n",
      "  0%|                               | 26.4/215M [00:22<46548:39:15, 1.28bytes/s]\u001b[A\u001b[A\n",
      "\n",
      "  0%|                               | 30.8/215M [00:27<55753:01:24, 1.07bytes/s]\u001b[A\u001b[A\n",
      "\n",
      "  0%|                               | 35.2/215M [00:30<48797:01:21, 1.22bytes/s]\u001b[A\u001b[A\n",
      "\n",
      "  0%|                               | 39.6/215M [00:33<46058:46:59, 1.29bytes/s]\u001b[A\u001b[A\n",
      "\n",
      "  0%|                               | 44.0/215M [00:35<42671:59:51, 1.40bytes/s]\u001b[A\u001b[A\n",
      "\n",
      "  0%|                               | 48.3/215M [00:39<43619:25:23, 1.37bytes/s]\u001b[A\u001b[A"
     ]
    },
    {
     "ename": "URLError",
     "evalue": "<urlopen error [Errno 104] Connection reset by peer>",
     "output_type": "error",
     "traceback": [
      "\u001b[0;31m---------------------------------------------------------------------------\u001b[0m",
      "\u001b[0;31mConnectionResetError\u001b[0m                      Traceback (most recent call last)",
      "File \u001b[0;32m~/anaconda3/lib/python3.9/urllib/request.py:1346\u001b[0m, in \u001b[0;36mAbstractHTTPHandler.do_open\u001b[0;34m(self, http_class, req, **http_conn_args)\u001b[0m\n\u001b[1;32m   1345\u001b[0m \u001b[38;5;28;01mtry\u001b[39;00m:\n\u001b[0;32m-> 1346\u001b[0m     \u001b[43mh\u001b[49m\u001b[38;5;241;43m.\u001b[39;49m\u001b[43mrequest\u001b[49m\u001b[43m(\u001b[49m\u001b[43mreq\u001b[49m\u001b[38;5;241;43m.\u001b[39;49m\u001b[43mget_method\u001b[49m\u001b[43m(\u001b[49m\u001b[43m)\u001b[49m\u001b[43m,\u001b[49m\u001b[43m \u001b[49m\u001b[43mreq\u001b[49m\u001b[38;5;241;43m.\u001b[39;49m\u001b[43mselector\u001b[49m\u001b[43m,\u001b[49m\u001b[43m \u001b[49m\u001b[43mreq\u001b[49m\u001b[38;5;241;43m.\u001b[39;49m\u001b[43mdata\u001b[49m\u001b[43m,\u001b[49m\u001b[43m \u001b[49m\u001b[43mheaders\u001b[49m\u001b[43m,\u001b[49m\n\u001b[1;32m   1347\u001b[0m \u001b[43m              \u001b[49m\u001b[43mencode_chunked\u001b[49m\u001b[38;5;241;43m=\u001b[39;49m\u001b[43mreq\u001b[49m\u001b[38;5;241;43m.\u001b[39;49m\u001b[43mhas_header\u001b[49m\u001b[43m(\u001b[49m\u001b[38;5;124;43m'\u001b[39;49m\u001b[38;5;124;43mTransfer-encoding\u001b[39;49m\u001b[38;5;124;43m'\u001b[39;49m\u001b[43m)\u001b[49m\u001b[43m)\u001b[49m\n\u001b[1;32m   1348\u001b[0m \u001b[38;5;28;01mexcept\u001b[39;00m \u001b[38;5;167;01mOSError\u001b[39;00m \u001b[38;5;28;01mas\u001b[39;00m err: \u001b[38;5;66;03m# timeout error\u001b[39;00m\n",
      "File \u001b[0;32m~/anaconda3/lib/python3.9/http/client.py:1285\u001b[0m, in \u001b[0;36mHTTPConnection.request\u001b[0;34m(self, method, url, body, headers, encode_chunked)\u001b[0m\n\u001b[1;32m   1284\u001b[0m \u001b[38;5;250m\u001b[39m\u001b[38;5;124;03m\"\"\"Send a complete request to the server.\"\"\"\u001b[39;00m\n\u001b[0;32m-> 1285\u001b[0m \u001b[38;5;28;43mself\u001b[39;49m\u001b[38;5;241;43m.\u001b[39;49m\u001b[43m_send_request\u001b[49m\u001b[43m(\u001b[49m\u001b[43mmethod\u001b[49m\u001b[43m,\u001b[49m\u001b[43m \u001b[49m\u001b[43murl\u001b[49m\u001b[43m,\u001b[49m\u001b[43m \u001b[49m\u001b[43mbody\u001b[49m\u001b[43m,\u001b[49m\u001b[43m \u001b[49m\u001b[43mheaders\u001b[49m\u001b[43m,\u001b[49m\u001b[43m \u001b[49m\u001b[43mencode_chunked\u001b[49m\u001b[43m)\u001b[49m\n",
      "File \u001b[0;32m~/anaconda3/lib/python3.9/http/client.py:1331\u001b[0m, in \u001b[0;36mHTTPConnection._send_request\u001b[0;34m(self, method, url, body, headers, encode_chunked)\u001b[0m\n\u001b[1;32m   1330\u001b[0m     body \u001b[38;5;241m=\u001b[39m _encode(body, \u001b[38;5;124m'\u001b[39m\u001b[38;5;124mbody\u001b[39m\u001b[38;5;124m'\u001b[39m)\n\u001b[0;32m-> 1331\u001b[0m \u001b[38;5;28;43mself\u001b[39;49m\u001b[38;5;241;43m.\u001b[39;49m\u001b[43mendheaders\u001b[49m\u001b[43m(\u001b[49m\u001b[43mbody\u001b[49m\u001b[43m,\u001b[49m\u001b[43m \u001b[49m\u001b[43mencode_chunked\u001b[49m\u001b[38;5;241;43m=\u001b[39;49m\u001b[43mencode_chunked\u001b[49m\u001b[43m)\u001b[49m\n",
      "File \u001b[0;32m~/anaconda3/lib/python3.9/http/client.py:1280\u001b[0m, in \u001b[0;36mHTTPConnection.endheaders\u001b[0;34m(self, message_body, encode_chunked)\u001b[0m\n\u001b[1;32m   1279\u001b[0m     \u001b[38;5;28;01mraise\u001b[39;00m CannotSendHeader()\n\u001b[0;32m-> 1280\u001b[0m \u001b[38;5;28;43mself\u001b[39;49m\u001b[38;5;241;43m.\u001b[39;49m\u001b[43m_send_output\u001b[49m\u001b[43m(\u001b[49m\u001b[43mmessage_body\u001b[49m\u001b[43m,\u001b[49m\u001b[43m \u001b[49m\u001b[43mencode_chunked\u001b[49m\u001b[38;5;241;43m=\u001b[39;49m\u001b[43mencode_chunked\u001b[49m\u001b[43m)\u001b[49m\n",
      "File \u001b[0;32m~/anaconda3/lib/python3.9/http/client.py:1040\u001b[0m, in \u001b[0;36mHTTPConnection._send_output\u001b[0;34m(self, message_body, encode_chunked)\u001b[0m\n\u001b[1;32m   1039\u001b[0m \u001b[38;5;28;01mdel\u001b[39;00m \u001b[38;5;28mself\u001b[39m\u001b[38;5;241m.\u001b[39m_buffer[:]\n\u001b[0;32m-> 1040\u001b[0m \u001b[38;5;28;43mself\u001b[39;49m\u001b[38;5;241;43m.\u001b[39;49m\u001b[43msend\u001b[49m\u001b[43m(\u001b[49m\u001b[43mmsg\u001b[49m\u001b[43m)\u001b[49m\n\u001b[1;32m   1042\u001b[0m \u001b[38;5;28;01mif\u001b[39;00m message_body \u001b[38;5;129;01mis\u001b[39;00m \u001b[38;5;129;01mnot\u001b[39;00m \u001b[38;5;28;01mNone\u001b[39;00m:\n\u001b[1;32m   1043\u001b[0m \n\u001b[1;32m   1044\u001b[0m     \u001b[38;5;66;03m# create a consistent interface to message_body\u001b[39;00m\n",
      "File \u001b[0;32m~/anaconda3/lib/python3.9/http/client.py:980\u001b[0m, in \u001b[0;36mHTTPConnection.send\u001b[0;34m(self, data)\u001b[0m\n\u001b[1;32m    979\u001b[0m \u001b[38;5;28;01mif\u001b[39;00m \u001b[38;5;28mself\u001b[39m\u001b[38;5;241m.\u001b[39mauto_open:\n\u001b[0;32m--> 980\u001b[0m     \u001b[38;5;28;43mself\u001b[39;49m\u001b[38;5;241;43m.\u001b[39;49m\u001b[43mconnect\u001b[49m\u001b[43m(\u001b[49m\u001b[43m)\u001b[49m\n\u001b[1;32m    981\u001b[0m \u001b[38;5;28;01melse\u001b[39;00m:\n",
      "File \u001b[0;32m~/anaconda3/lib/python3.9/http/client.py:1454\u001b[0m, in \u001b[0;36mHTTPSConnection.connect\u001b[0;34m(self)\u001b[0m\n\u001b[1;32m   1452\u001b[0m     server_hostname \u001b[38;5;241m=\u001b[39m \u001b[38;5;28mself\u001b[39m\u001b[38;5;241m.\u001b[39mhost\n\u001b[0;32m-> 1454\u001b[0m \u001b[38;5;28mself\u001b[39m\u001b[38;5;241m.\u001b[39msock \u001b[38;5;241m=\u001b[39m \u001b[38;5;28;43mself\u001b[39;49m\u001b[38;5;241;43m.\u001b[39;49m\u001b[43m_context\u001b[49m\u001b[38;5;241;43m.\u001b[39;49m\u001b[43mwrap_socket\u001b[49m\u001b[43m(\u001b[49m\u001b[38;5;28;43mself\u001b[39;49m\u001b[38;5;241;43m.\u001b[39;49m\u001b[43msock\u001b[49m\u001b[43m,\u001b[49m\n\u001b[1;32m   1455\u001b[0m \u001b[43m                                      \u001b[49m\u001b[43mserver_hostname\u001b[49m\u001b[38;5;241;43m=\u001b[39;49m\u001b[43mserver_hostname\u001b[49m\u001b[43m)\u001b[49m\n",
      "File \u001b[0;32m~/anaconda3/lib/python3.9/ssl.py:500\u001b[0m, in \u001b[0;36mSSLContext.wrap_socket\u001b[0;34m(self, sock, server_side, do_handshake_on_connect, suppress_ragged_eofs, server_hostname, session)\u001b[0m\n\u001b[1;32m    494\u001b[0m \u001b[38;5;28;01mdef\u001b[39;00m \u001b[38;5;21mwrap_socket\u001b[39m(\u001b[38;5;28mself\u001b[39m, sock, server_side\u001b[38;5;241m=\u001b[39m\u001b[38;5;28;01mFalse\u001b[39;00m,\n\u001b[1;32m    495\u001b[0m                 do_handshake_on_connect\u001b[38;5;241m=\u001b[39m\u001b[38;5;28;01mTrue\u001b[39;00m,\n\u001b[1;32m    496\u001b[0m                 suppress_ragged_eofs\u001b[38;5;241m=\u001b[39m\u001b[38;5;28;01mTrue\u001b[39;00m,\n\u001b[1;32m    497\u001b[0m                 server_hostname\u001b[38;5;241m=\u001b[39m\u001b[38;5;28;01mNone\u001b[39;00m, session\u001b[38;5;241m=\u001b[39m\u001b[38;5;28;01mNone\u001b[39;00m):\n\u001b[1;32m    498\u001b[0m     \u001b[38;5;66;03m# SSLSocket class handles server_hostname encoding before it calls\u001b[39;00m\n\u001b[1;32m    499\u001b[0m     \u001b[38;5;66;03m# ctx._wrap_socket()\u001b[39;00m\n\u001b[0;32m--> 500\u001b[0m     \u001b[38;5;28;01mreturn\u001b[39;00m \u001b[38;5;28;43mself\u001b[39;49m\u001b[38;5;241;43m.\u001b[39;49m\u001b[43msslsocket_class\u001b[49m\u001b[38;5;241;43m.\u001b[39;49m\u001b[43m_create\u001b[49m\u001b[43m(\u001b[49m\n\u001b[1;32m    501\u001b[0m \u001b[43m        \u001b[49m\u001b[43msock\u001b[49m\u001b[38;5;241;43m=\u001b[39;49m\u001b[43msock\u001b[49m\u001b[43m,\u001b[49m\n\u001b[1;32m    502\u001b[0m \u001b[43m        \u001b[49m\u001b[43mserver_side\u001b[49m\u001b[38;5;241;43m=\u001b[39;49m\u001b[43mserver_side\u001b[49m\u001b[43m,\u001b[49m\n\u001b[1;32m    503\u001b[0m \u001b[43m        \u001b[49m\u001b[43mdo_handshake_on_connect\u001b[49m\u001b[38;5;241;43m=\u001b[39;49m\u001b[43mdo_handshake_on_connect\u001b[49m\u001b[43m,\u001b[49m\n\u001b[1;32m    504\u001b[0m \u001b[43m        \u001b[49m\u001b[43msuppress_ragged_eofs\u001b[49m\u001b[38;5;241;43m=\u001b[39;49m\u001b[43msuppress_ragged_eofs\u001b[49m\u001b[43m,\u001b[49m\n\u001b[1;32m    505\u001b[0m \u001b[43m        \u001b[49m\u001b[43mserver_hostname\u001b[49m\u001b[38;5;241;43m=\u001b[39;49m\u001b[43mserver_hostname\u001b[49m\u001b[43m,\u001b[49m\n\u001b[1;32m    506\u001b[0m \u001b[43m        \u001b[49m\u001b[43mcontext\u001b[49m\u001b[38;5;241;43m=\u001b[39;49m\u001b[38;5;28;43mself\u001b[39;49m\u001b[43m,\u001b[49m\n\u001b[1;32m    507\u001b[0m \u001b[43m        \u001b[49m\u001b[43msession\u001b[49m\u001b[38;5;241;43m=\u001b[39;49m\u001b[43msession\u001b[49m\n\u001b[1;32m    508\u001b[0m \u001b[43m    \u001b[49m\u001b[43m)\u001b[49m\n",
      "File \u001b[0;32m~/anaconda3/lib/python3.9/ssl.py:1040\u001b[0m, in \u001b[0;36mSSLSocket._create\u001b[0;34m(cls, sock, server_side, do_handshake_on_connect, suppress_ragged_eofs, server_hostname, context, session)\u001b[0m\n\u001b[1;32m   1039\u001b[0m             \u001b[38;5;28;01mraise\u001b[39;00m \u001b[38;5;167;01mValueError\u001b[39;00m(\u001b[38;5;124m\"\u001b[39m\u001b[38;5;124mdo_handshake_on_connect should not be specified for non-blocking sockets\u001b[39m\u001b[38;5;124m\"\u001b[39m)\n\u001b[0;32m-> 1040\u001b[0m         \u001b[38;5;28;43mself\u001b[39;49m\u001b[38;5;241;43m.\u001b[39;49m\u001b[43mdo_handshake\u001b[49m\u001b[43m(\u001b[49m\u001b[43m)\u001b[49m\n\u001b[1;32m   1041\u001b[0m \u001b[38;5;28;01mexcept\u001b[39;00m (\u001b[38;5;167;01mOSError\u001b[39;00m, \u001b[38;5;167;01mValueError\u001b[39;00m):\n",
      "File \u001b[0;32m~/anaconda3/lib/python3.9/ssl.py:1309\u001b[0m, in \u001b[0;36mSSLSocket.do_handshake\u001b[0;34m(self, block)\u001b[0m\n\u001b[1;32m   1308\u001b[0m         \u001b[38;5;28mself\u001b[39m\u001b[38;5;241m.\u001b[39msettimeout(\u001b[38;5;28;01mNone\u001b[39;00m)\n\u001b[0;32m-> 1309\u001b[0m     \u001b[38;5;28;43mself\u001b[39;49m\u001b[38;5;241;43m.\u001b[39;49m\u001b[43m_sslobj\u001b[49m\u001b[38;5;241;43m.\u001b[39;49m\u001b[43mdo_handshake\u001b[49m\u001b[43m(\u001b[49m\u001b[43m)\u001b[49m\n\u001b[1;32m   1310\u001b[0m \u001b[38;5;28;01mfinally\u001b[39;00m:\n",
      "\u001b[0;31mConnectionResetError\u001b[0m: [Errno 104] Connection reset by peer",
      "\nDuring handling of the above exception, another exception occurred:\n",
      "\u001b[0;31mURLError\u001b[0m                                  Traceback (most recent call last)",
      "Input \u001b[0;32mIn [68]\u001b[0m, in \u001b[0;36m<cell line: 2>\u001b[0;34m()\u001b[0m\n\u001b[1;32m      1\u001b[0m \u001b[38;5;28;01mimport\u001b[39;00m \u001b[38;5;21;01mtime\u001b[39;00m\n\u001b[1;32m      2\u001b[0m \u001b[38;5;28;01mfor\u001b[39;00m i \u001b[38;5;129;01min\u001b[39;00m \u001b[38;5;28mrange\u001b[39m(\u001b[38;5;28mlen\u001b[39m(filter_df[\u001b[38;5;124m\"\u001b[39m\u001b[38;5;124murl\u001b[39m\u001b[38;5;124m\"\u001b[39m])):\n\u001b[0;32m----> 3\u001b[0m     \u001b[43mtube_download\u001b[49m\u001b[43m(\u001b[49m\u001b[43mfilter_df\u001b[49m\u001b[43m[\u001b[49m\u001b[38;5;124;43m\"\u001b[39;49m\u001b[38;5;124;43murl\u001b[39;49m\u001b[38;5;124;43m\"\u001b[39;49m\u001b[43m]\u001b[49m\u001b[43m[\u001b[49m\u001b[43mi\u001b[49m\u001b[43m]\u001b[49m\u001b[43m,\u001b[49m\u001b[43m \u001b[49m\u001b[43mfilter_df\u001b[49m\u001b[43m[\u001b[49m\u001b[38;5;124;43m\"\u001b[39;49m\u001b[38;5;124;43mfolder_title\u001b[39;49m\u001b[38;5;124;43m\"\u001b[39;49m\u001b[43m]\u001b[49m\u001b[43m[\u001b[49m\u001b[43mi\u001b[49m\u001b[43m]\u001b[49m\u001b[43m,\u001b[49m\u001b[43m \u001b[49m\u001b[43mfilter_df\u001b[49m\u001b[43m[\u001b[49m\u001b[38;5;124;43m\"\u001b[39;49m\u001b[38;5;124;43mvideo_name\u001b[39;49m\u001b[38;5;124;43m\"\u001b[39;49m\u001b[43m]\u001b[49m\u001b[43m[\u001b[49m\u001b[43mi\u001b[49m\u001b[43m]\u001b[49m\u001b[43m)\u001b[49m\n\u001b[1;32m      4\u001b[0m     time\u001b[38;5;241m.\u001b[39msleep(\u001b[38;5;241m3\u001b[39m)\n",
      "Input \u001b[0;32mIn [57]\u001b[0m, in \u001b[0;36mtube_download\u001b[0;34m(link, output_dir, file_name)\u001b[0m\n\u001b[1;32m     21\u001b[0m video\u001b[38;5;241m.\u001b[39mregister_on_progress_callback(on_progress_callback)\n\u001b[1;32m     23\u001b[0m \u001b[38;5;66;03m# Download the video to the specified directory with the specified file name\u001b[39;00m\n\u001b[0;32m---> 24\u001b[0m \u001b[43mstream\u001b[49m\u001b[38;5;241;43m.\u001b[39;49m\u001b[43mdownload\u001b[49m\u001b[43m(\u001b[49m\u001b[43moutput_path\u001b[49m\u001b[38;5;241;43m=\u001b[39;49m\u001b[43moutput_dir\u001b[49m\u001b[43m,\u001b[49m\u001b[43m \u001b[49m\u001b[43mfilename\u001b[49m\u001b[38;5;241;43m=\u001b[39;49m\u001b[43mfile_name\u001b[49m\u001b[43m \u001b[49m\u001b[38;5;241;43m+\u001b[39;49m\u001b[43m \u001b[49m\u001b[38;5;124;43m'\u001b[39;49m\u001b[38;5;124;43m.\u001b[39;49m\u001b[38;5;124;43m'\u001b[39;49m\u001b[43m \u001b[49m\u001b[38;5;241;43m+\u001b[39;49m\u001b[43m \u001b[49m\u001b[43mstream\u001b[49m\u001b[38;5;241;43m.\u001b[39;49m\u001b[43msubtype\u001b[49m\u001b[43m)\u001b[49m\n\u001b[1;32m     26\u001b[0m \u001b[38;5;66;03m# Close the progress bar when the download is complete\u001b[39;00m\n\u001b[1;32m     27\u001b[0m tqdm_bar\u001b[38;5;241m.\u001b[39mclose()\n",
      "File \u001b[0;32m~/anaconda3/lib/python3.9/site-packages/pytube/streams.py:314\u001b[0m, in \u001b[0;36mStream.download\u001b[0;34m(self, output_path, filename, filename_prefix, skip_existing, timeout, max_retries)\u001b[0m\n\u001b[1;32m    312\u001b[0m \u001b[38;5;28;01mwith\u001b[39;00m \u001b[38;5;28mopen\u001b[39m(file_path, \u001b[38;5;124m\"\u001b[39m\u001b[38;5;124mwb\u001b[39m\u001b[38;5;124m\"\u001b[39m) \u001b[38;5;28;01mas\u001b[39;00m fh:\n\u001b[1;32m    313\u001b[0m     \u001b[38;5;28;01mtry\u001b[39;00m:\n\u001b[0;32m--> 314\u001b[0m         \u001b[38;5;28;01mfor\u001b[39;00m chunk \u001b[38;5;129;01min\u001b[39;00m request\u001b[38;5;241m.\u001b[39mstream(\n\u001b[1;32m    315\u001b[0m             \u001b[38;5;28mself\u001b[39m\u001b[38;5;241m.\u001b[39murl,\n\u001b[1;32m    316\u001b[0m             timeout\u001b[38;5;241m=\u001b[39mtimeout,\n\u001b[1;32m    317\u001b[0m             max_retries\u001b[38;5;241m=\u001b[39mmax_retries\n\u001b[1;32m    318\u001b[0m         ):\n\u001b[1;32m    319\u001b[0m             \u001b[38;5;66;03m# reduce the (bytes) remainder by the length of the chunk.\u001b[39;00m\n\u001b[1;32m    320\u001b[0m             bytes_remaining \u001b[38;5;241m-\u001b[39m\u001b[38;5;241m=\u001b[39m \u001b[38;5;28mlen\u001b[39m(chunk)\n\u001b[1;32m    321\u001b[0m             \u001b[38;5;66;03m# send to the on_progress callback.\u001b[39;00m\n",
      "File \u001b[0;32m~/anaconda3/lib/python3.9/site-packages/pytube/request.py:157\u001b[0m, in \u001b[0;36mstream\u001b[0;34m(url, timeout, max_retries)\u001b[0m\n\u001b[1;32m    155\u001b[0m \u001b[38;5;66;03m# Try to execute the request, ignoring socket timeouts\u001b[39;00m\n\u001b[1;32m    156\u001b[0m \u001b[38;5;28;01mtry\u001b[39;00m:\n\u001b[0;32m--> 157\u001b[0m     response \u001b[38;5;241m=\u001b[39m \u001b[43m_execute_request\u001b[49m\u001b[43m(\u001b[49m\n\u001b[1;32m    158\u001b[0m \u001b[43m        \u001b[49m\u001b[43murl\u001b[49m\u001b[43m \u001b[49m\u001b[38;5;241;43m+\u001b[39;49m\u001b[43m \u001b[49m\u001b[38;5;124;43mf\u001b[39;49m\u001b[38;5;124;43m\"\u001b[39;49m\u001b[38;5;124;43m&range=\u001b[39;49m\u001b[38;5;132;43;01m{\u001b[39;49;00m\u001b[43mdownloaded\u001b[49m\u001b[38;5;132;43;01m}\u001b[39;49;00m\u001b[38;5;124;43m-\u001b[39;49m\u001b[38;5;132;43;01m{\u001b[39;49;00m\u001b[43mstop_pos\u001b[49m\u001b[38;5;132;43;01m}\u001b[39;49;00m\u001b[38;5;124;43m\"\u001b[39;49m\u001b[43m,\u001b[49m\n\u001b[1;32m    159\u001b[0m \u001b[43m        \u001b[49m\u001b[43mmethod\u001b[49m\u001b[38;5;241;43m=\u001b[39;49m\u001b[38;5;124;43m\"\u001b[39;49m\u001b[38;5;124;43mGET\u001b[39;49m\u001b[38;5;124;43m\"\u001b[39;49m\u001b[43m,\u001b[49m\n\u001b[1;32m    160\u001b[0m \u001b[43m        \u001b[49m\u001b[43mtimeout\u001b[49m\u001b[38;5;241;43m=\u001b[39;49m\u001b[43mtimeout\u001b[49m\n\u001b[1;32m    161\u001b[0m \u001b[43m    \u001b[49m\u001b[43m)\u001b[49m\n\u001b[1;32m    162\u001b[0m \u001b[38;5;28;01mexcept\u001b[39;00m URLError \u001b[38;5;28;01mas\u001b[39;00m e:\n\u001b[1;32m    163\u001b[0m     \u001b[38;5;66;03m# We only want to skip over timeout errors, and\u001b[39;00m\n\u001b[1;32m    164\u001b[0m     \u001b[38;5;66;03m# raise any other URLError exceptions\u001b[39;00m\n\u001b[1;32m    165\u001b[0m     \u001b[38;5;28;01mif\u001b[39;00m \u001b[38;5;28misinstance\u001b[39m(e\u001b[38;5;241m.\u001b[39mreason, socket\u001b[38;5;241m.\u001b[39mtimeout):\n",
      "File \u001b[0;32m~/anaconda3/lib/python3.9/site-packages/pytube/request.py:37\u001b[0m, in \u001b[0;36m_execute_request\u001b[0;34m(url, method, headers, data, timeout)\u001b[0m\n\u001b[1;32m     35\u001b[0m \u001b[38;5;28;01melse\u001b[39;00m:\n\u001b[1;32m     36\u001b[0m     \u001b[38;5;28;01mraise\u001b[39;00m \u001b[38;5;167;01mValueError\u001b[39;00m(\u001b[38;5;124m\"\u001b[39m\u001b[38;5;124mInvalid URL\u001b[39m\u001b[38;5;124m\"\u001b[39m)\n\u001b[0;32m---> 37\u001b[0m \u001b[38;5;28;01mreturn\u001b[39;00m \u001b[43murlopen\u001b[49m\u001b[43m(\u001b[49m\u001b[43mrequest\u001b[49m\u001b[43m,\u001b[49m\u001b[43m \u001b[49m\u001b[43mtimeout\u001b[49m\u001b[38;5;241;43m=\u001b[39;49m\u001b[43mtimeout\u001b[49m\u001b[43m)\u001b[49m\n",
      "File \u001b[0;32m~/anaconda3/lib/python3.9/urllib/request.py:214\u001b[0m, in \u001b[0;36murlopen\u001b[0;34m(url, data, timeout, cafile, capath, cadefault, context)\u001b[0m\n\u001b[1;32m    212\u001b[0m \u001b[38;5;28;01melse\u001b[39;00m:\n\u001b[1;32m    213\u001b[0m     opener \u001b[38;5;241m=\u001b[39m _opener\n\u001b[0;32m--> 214\u001b[0m \u001b[38;5;28;01mreturn\u001b[39;00m \u001b[43mopener\u001b[49m\u001b[38;5;241;43m.\u001b[39;49m\u001b[43mopen\u001b[49m\u001b[43m(\u001b[49m\u001b[43murl\u001b[49m\u001b[43m,\u001b[49m\u001b[43m \u001b[49m\u001b[43mdata\u001b[49m\u001b[43m,\u001b[49m\u001b[43m \u001b[49m\u001b[43mtimeout\u001b[49m\u001b[43m)\u001b[49m\n",
      "File \u001b[0;32m~/anaconda3/lib/python3.9/urllib/request.py:517\u001b[0m, in \u001b[0;36mOpenerDirector.open\u001b[0;34m(self, fullurl, data, timeout)\u001b[0m\n\u001b[1;32m    514\u001b[0m     req \u001b[38;5;241m=\u001b[39m meth(req)\n\u001b[1;32m    516\u001b[0m sys\u001b[38;5;241m.\u001b[39maudit(\u001b[38;5;124m'\u001b[39m\u001b[38;5;124murllib.Request\u001b[39m\u001b[38;5;124m'\u001b[39m, req\u001b[38;5;241m.\u001b[39mfull_url, req\u001b[38;5;241m.\u001b[39mdata, req\u001b[38;5;241m.\u001b[39mheaders, req\u001b[38;5;241m.\u001b[39mget_method())\n\u001b[0;32m--> 517\u001b[0m response \u001b[38;5;241m=\u001b[39m \u001b[38;5;28;43mself\u001b[39;49m\u001b[38;5;241;43m.\u001b[39;49m\u001b[43m_open\u001b[49m\u001b[43m(\u001b[49m\u001b[43mreq\u001b[49m\u001b[43m,\u001b[49m\u001b[43m \u001b[49m\u001b[43mdata\u001b[49m\u001b[43m)\u001b[49m\n\u001b[1;32m    519\u001b[0m \u001b[38;5;66;03m# post-process response\u001b[39;00m\n\u001b[1;32m    520\u001b[0m meth_name \u001b[38;5;241m=\u001b[39m protocol\u001b[38;5;241m+\u001b[39m\u001b[38;5;124m\"\u001b[39m\u001b[38;5;124m_response\u001b[39m\u001b[38;5;124m\"\u001b[39m\n",
      "File \u001b[0;32m~/anaconda3/lib/python3.9/urllib/request.py:534\u001b[0m, in \u001b[0;36mOpenerDirector._open\u001b[0;34m(self, req, data)\u001b[0m\n\u001b[1;32m    531\u001b[0m     \u001b[38;5;28;01mreturn\u001b[39;00m result\n\u001b[1;32m    533\u001b[0m protocol \u001b[38;5;241m=\u001b[39m req\u001b[38;5;241m.\u001b[39mtype\n\u001b[0;32m--> 534\u001b[0m result \u001b[38;5;241m=\u001b[39m \u001b[38;5;28;43mself\u001b[39;49m\u001b[38;5;241;43m.\u001b[39;49m\u001b[43m_call_chain\u001b[49m\u001b[43m(\u001b[49m\u001b[38;5;28;43mself\u001b[39;49m\u001b[38;5;241;43m.\u001b[39;49m\u001b[43mhandle_open\u001b[49m\u001b[43m,\u001b[49m\u001b[43m \u001b[49m\u001b[43mprotocol\u001b[49m\u001b[43m,\u001b[49m\u001b[43m \u001b[49m\u001b[43mprotocol\u001b[49m\u001b[43m \u001b[49m\u001b[38;5;241;43m+\u001b[39;49m\n\u001b[1;32m    535\u001b[0m \u001b[43m                          \u001b[49m\u001b[38;5;124;43m'\u001b[39;49m\u001b[38;5;124;43m_open\u001b[39;49m\u001b[38;5;124;43m'\u001b[39;49m\u001b[43m,\u001b[49m\u001b[43m \u001b[49m\u001b[43mreq\u001b[49m\u001b[43m)\u001b[49m\n\u001b[1;32m    536\u001b[0m \u001b[38;5;28;01mif\u001b[39;00m result:\n\u001b[1;32m    537\u001b[0m     \u001b[38;5;28;01mreturn\u001b[39;00m result\n",
      "File \u001b[0;32m~/anaconda3/lib/python3.9/urllib/request.py:494\u001b[0m, in \u001b[0;36mOpenerDirector._call_chain\u001b[0;34m(self, chain, kind, meth_name, *args)\u001b[0m\n\u001b[1;32m    492\u001b[0m \u001b[38;5;28;01mfor\u001b[39;00m handler \u001b[38;5;129;01min\u001b[39;00m handlers:\n\u001b[1;32m    493\u001b[0m     func \u001b[38;5;241m=\u001b[39m \u001b[38;5;28mgetattr\u001b[39m(handler, meth_name)\n\u001b[0;32m--> 494\u001b[0m     result \u001b[38;5;241m=\u001b[39m \u001b[43mfunc\u001b[49m\u001b[43m(\u001b[49m\u001b[38;5;241;43m*\u001b[39;49m\u001b[43margs\u001b[49m\u001b[43m)\u001b[49m\n\u001b[1;32m    495\u001b[0m     \u001b[38;5;28;01mif\u001b[39;00m result \u001b[38;5;129;01mis\u001b[39;00m \u001b[38;5;129;01mnot\u001b[39;00m \u001b[38;5;28;01mNone\u001b[39;00m:\n\u001b[1;32m    496\u001b[0m         \u001b[38;5;28;01mreturn\u001b[39;00m result\n",
      "File \u001b[0;32m~/anaconda3/lib/python3.9/urllib/request.py:1389\u001b[0m, in \u001b[0;36mHTTPSHandler.https_open\u001b[0;34m(self, req)\u001b[0m\n\u001b[1;32m   1388\u001b[0m \u001b[38;5;28;01mdef\u001b[39;00m \u001b[38;5;21mhttps_open\u001b[39m(\u001b[38;5;28mself\u001b[39m, req):\n\u001b[0;32m-> 1389\u001b[0m     \u001b[38;5;28;01mreturn\u001b[39;00m \u001b[38;5;28;43mself\u001b[39;49m\u001b[38;5;241;43m.\u001b[39;49m\u001b[43mdo_open\u001b[49m\u001b[43m(\u001b[49m\u001b[43mhttp\u001b[49m\u001b[38;5;241;43m.\u001b[39;49m\u001b[43mclient\u001b[49m\u001b[38;5;241;43m.\u001b[39;49m\u001b[43mHTTPSConnection\u001b[49m\u001b[43m,\u001b[49m\u001b[43m \u001b[49m\u001b[43mreq\u001b[49m\u001b[43m,\u001b[49m\n\u001b[1;32m   1390\u001b[0m \u001b[43m        \u001b[49m\u001b[43mcontext\u001b[49m\u001b[38;5;241;43m=\u001b[39;49m\u001b[38;5;28;43mself\u001b[39;49m\u001b[38;5;241;43m.\u001b[39;49m\u001b[43m_context\u001b[49m\u001b[43m,\u001b[49m\u001b[43m \u001b[49m\u001b[43mcheck_hostname\u001b[49m\u001b[38;5;241;43m=\u001b[39;49m\u001b[38;5;28;43mself\u001b[39;49m\u001b[38;5;241;43m.\u001b[39;49m\u001b[43m_check_hostname\u001b[49m\u001b[43m)\u001b[49m\n",
      "File \u001b[0;32m~/anaconda3/lib/python3.9/urllib/request.py:1349\u001b[0m, in \u001b[0;36mAbstractHTTPHandler.do_open\u001b[0;34m(self, http_class, req, **http_conn_args)\u001b[0m\n\u001b[1;32m   1346\u001b[0m         h\u001b[38;5;241m.\u001b[39mrequest(req\u001b[38;5;241m.\u001b[39mget_method(), req\u001b[38;5;241m.\u001b[39mselector, req\u001b[38;5;241m.\u001b[39mdata, headers,\n\u001b[1;32m   1347\u001b[0m                   encode_chunked\u001b[38;5;241m=\u001b[39mreq\u001b[38;5;241m.\u001b[39mhas_header(\u001b[38;5;124m'\u001b[39m\u001b[38;5;124mTransfer-encoding\u001b[39m\u001b[38;5;124m'\u001b[39m))\n\u001b[1;32m   1348\u001b[0m     \u001b[38;5;28;01mexcept\u001b[39;00m \u001b[38;5;167;01mOSError\u001b[39;00m \u001b[38;5;28;01mas\u001b[39;00m err: \u001b[38;5;66;03m# timeout error\u001b[39;00m\n\u001b[0;32m-> 1349\u001b[0m         \u001b[38;5;28;01mraise\u001b[39;00m URLError(err)\n\u001b[1;32m   1350\u001b[0m     r \u001b[38;5;241m=\u001b[39m h\u001b[38;5;241m.\u001b[39mgetresponse()\n\u001b[1;32m   1351\u001b[0m \u001b[38;5;28;01mexcept\u001b[39;00m:\n",
      "\u001b[0;31mURLError\u001b[0m: <urlopen error [Errno 104] Connection reset by peer>"
     ]
    }
   ],
   "source": [
    "import time\n",
    "for i in range(len(filter_df[\"url\"])):\n",
    "    tube_download(filter_df[\"url\"][i], filter_df[\"folder_title\"][i], filter_df[\"video_name\"][i])\n",
    "    time.sleep(3)"
   ]
  }
 ],
 "metadata": {
  "colab": {
   "collapsed_sections": [
    "WiAFtDpjIies"
   ],
   "provenance": []
  },
  "kernelspec": {
   "display_name": "Python 3 (ipykernel)",
   "language": "python",
   "name": "python3"
  },
  "language_info": {
   "codemirror_mode": {
    "name": "ipython",
    "version": 3
   },
   "file_extension": ".py",
   "mimetype": "text/x-python",
   "name": "python",
   "nbconvert_exporter": "python",
   "pygments_lexer": "ipython3",
   "version": "3.9.12"
  },
  "toc": {
   "base_numbering": 1,
   "nav_menu": {},
   "number_sections": true,
   "sideBar": true,
   "skip_h1_title": false,
   "title_cell": "Table of Contents",
   "title_sidebar": "Contents",
   "toc_cell": false,
   "toc_position": {},
   "toc_section_display": true,
   "toc_window_display": false
  }
 },
 "nbformat": 4,
 "nbformat_minor": 5
}
