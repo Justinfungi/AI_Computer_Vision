{
 "cells": [
  {
   "cell_type": "code",
   "execution_count": null,
   "id": "bwAfHzYQEhd9",
   "metadata": {
    "colab": {
     "base_uri": "https://localhost:8080/"
    },
    "id": "bwAfHzYQEhd9",
    "outputId": "429584b2-91f1-456e-c7fc-f61ed68cae67"
   },
   "outputs": [],
   "source": [
    "!pip install pytube"
   ]
  },
  {
   "cell_type": "code",
   "execution_count": 1,
   "id": "2263dd47",
   "metadata": {
    "ExecuteTime": {
     "end_time": "2023-06-08T14:27:18.904331Z",
     "start_time": "2023-06-08T14:27:18.468803Z"
    },
    "id": "2263dd47"
   },
   "outputs": [],
   "source": [
    "import pandas as pd\n",
    "import os\n",
    "import re\n",
    "from tqdm import tqdm\n",
    "from pytube import YouTube# 定义要匹配的字符串\n",
    "\n",
    "df = pd.read_excel(\"./final_Aus_Open_2021to2023_youtube (1).xlsx\")\n",
    "#df2 = pd.read_excel(\"./final_French_Open_2021to2023_youtube.xlsx\")"
   ]
  },
  {
   "cell_type": "markdown",
   "id": "WiAFtDpjIies",
   "metadata": {
    "id": "WiAFtDpjIies"
   },
   "source": [
    "# Basics"
   ]
  },
  {
   "cell_type": "code",
   "execution_count": null,
   "id": "a9a69259",
   "metadata": {
    "colab": {
     "base_uri": "https://localhost:8080/",
     "height": 472
    },
    "id": "a9a69259",
    "outputId": "5b8518b2-fc8c-4ea3-9607-b1ae534ec69f"
   },
   "outputs": [],
   "source": [
    "df"
   ]
  },
  {
   "cell_type": "code",
   "execution_count": null,
   "id": "3fe4bfd7",
   "metadata": {
    "colab": {
     "base_uri": "https://localhost:8080/",
     "height": 1000
    },
    "id": "3fe4bfd7",
    "outputId": "a2bd009e-5aa2-470d-bfc7-235e86906ccf"
   },
   "outputs": [],
   "source": [
    "df2"
   ]
  },
  {
   "cell_type": "markdown",
   "id": "4681e902",
   "metadata": {
    "id": "4681e902"
   },
   "source": [
    "# Create Folder"
   ]
  },
  {
   "cell_type": "code",
   "execution_count": null,
   "id": "OEpJWyd3pBoP",
   "metadata": {
    "colab": {
     "base_uri": "https://localhost:8080/"
    },
    "id": "OEpJWyd3pBoP",
    "outputId": "f9242422-3b6d-4bb4-f9b0-c11838da9e39"
   },
   "outputs": [],
   "source": [
    "from google.colab import drive\n",
    "drive.mount('/content/drive')"
   ]
  },
  {
   "cell_type": "code",
   "execution_count": null,
   "id": "d22444ac",
   "metadata": {
    "id": "d22444ac"
   },
   "outputs": [],
   "source": [
    "def title_preprocessing(string):\n",
    "    match = re.search(r\"\\|([\\w\\s]+)$\", string)\n",
    "\n",
    "    if match:\n",
    "        result = match.group(1).strip()\n",
    "        #print(result)\n",
    "    else:\n",
    "        print(\"No match found.\")\n",
    "        result = 0\n",
    "    return result"
   ]
  },
  {
   "cell_type": "code",
   "execution_count": null,
   "id": "juqVlo-XHEm3",
   "metadata": {
    "id": "juqVlo-XHEm3"
   },
   "outputs": [],
   "source": [
    "def video_name(string):\n",
    "    #print(string)\n",
    "    try:\n",
    "        result = re.search(r'\\b\\w+\\b\\s+\\b\\w+\\b\\s+(?:vs\\.?|\\s+v\\s+)\\s+\\b\\w+\\b\\s+\\b\\w+\\b', string)\n",
    "        result = re.search(r'\\b\\w+\\b\\s+\\b\\w+\\b\\s+(?:vs\\.?|v)\\s+\\b\\w+\\b\\s+\\b\\w+\\b', string)\n",
    "        match_name = result.group()\n",
    "        match_name = re.sub(r'vs\\.|v', 'vs', match_name)\n",
    "        print(result.group())\n",
    "    except:\n",
    "        match_name = string.split('|')[0].strip()\n",
    "    if match_name:\n",
    "        print(match_name)\n",
    "    else:\n",
    "        match_name = 0\n",
    "        print('None')\n",
    "    return match_name"
   ]
  },
  {
   "cell_type": "code",
   "execution_count": null,
   "id": "6043f264",
   "metadata": {
    "colab": {
     "base_uri": "https://localhost:8080/",
     "height": 1000
    },
    "id": "6043f264",
    "outputId": "4c47e30e-bf20-4a2c-f52d-8eb84c310f94"
   },
   "outputs": [],
   "source": [
    "df[\"folder_title\"] = df[\"title\"].apply(title_preprocessing)\n",
    "df[\"video_name\"] = df[\"title\"].apply(video_name)\n",
    "df"
   ]
  },
  {
   "cell_type": "code",
   "execution_count": null,
   "id": "4d244b5a",
   "metadata": {
    "colab": {
     "base_uri": "https://localhost:8080/"
    },
    "id": "4d244b5a",
    "outputId": "7901d2a5-a1f9-41dd-d41a-2e5b8b8b2e9d"
   },
   "outputs": [],
   "source": [
    "def create_folder():\n",
    "    for i in sorted(df[\"folder_title\"].unique()):\n",
    "        print(i)\n",
    "        folder_name = 'drive/MyDrive/games/'+i\n",
    "        os.mkdir(folder_name)\n",
    "    print(\"Folder created successfully!\")\n",
    "    print(len(df[\"folder_title\"].unique()))\n",
    "create_folder()"
   ]
  },
  {
   "cell_type": "code",
   "execution_count": null,
   "id": "35c2fa61",
   "metadata": {
    "colab": {
     "base_uri": "https://localhost:8080/",
     "height": 727
    },
    "id": "35c2fa61",
    "outputId": "6fb46185-3cc7-46c9-f5b1-6032e40066b0"
   },
   "outputs": [],
   "source": [
    "df_sorted = df.sort_values(\"folder_title\").reset_index(drop=True)\n",
    "df_sorted"
   ]
  },
  {
   "cell_type": "markdown",
   "id": "381f1cb7",
   "metadata": {
    "id": "381f1cb7"
   },
   "source": [
    "# Download"
   ]
  },
  {
   "cell_type": "code",
   "execution_count": null,
   "id": "639a49b3",
   "metadata": {
    "id": "639a49b3"
   },
   "outputs": [],
   "source": [
    "from tqdm import tqdm\n",
    "\n",
    "def on_progress_callback(stream, chunk, bytes_remaining):\n",
    "    total_size = stream.filesize # total volume\n",
    "    bytes_downloaded = total_size - bytes_remaining\n",
    "    progress = bytes_downloaded / total_size * 100\n",
    "    tqdm_bar.update(progress - tqdm_bar.n)\n",
    "\n",
    "def tube_download(link, output_dir, file_name):\n",
    "    # Create a YouTube object\n",
    "    video = YouTube(link)\n",
    "\n",
    "    # Get the highest resolution video stream\n",
    "    stream = video.streams.get_highest_resolution()\n",
    "\n",
    "    # Create a progress bar for the download\n",
    "    global tqdm_bar\n",
    "    tqdm_bar = tqdm(total=stream.filesize, unit=\"bytes\", unit_scale=True)\n",
    "\n",
    "    # Register the progress callback function\n",
    "    video.register_on_progress_callback(on_progress_callback)\n",
    "\n",
    "    # Download the video to the specified directory with the specified file name\n",
    "    stream.download(output_path=output_dir, filename=file_name + '.' + stream.subtype)\n",
    "\n",
    "    # Close the progress bar when the download is complete\n",
    "    tqdm_bar.close()"
   ]
  },
  {
   "cell_type": "code",
   "execution_count": null,
   "id": "e92-xR8JQBy5",
   "metadata": {
    "colab": {
     "base_uri": "https://localhost:8080/",
     "height": 727
    },
    "id": "e92-xR8JQBy5",
    "outputId": "9764b7b5-9942-4f36-9c55-c2bbc1b73a30"
   },
   "outputs": [],
   "source": [
    "df_sorted"
   ]
  },
  {
   "cell_type": "code",
   "execution_count": null,
   "id": "57ce35e6",
   "metadata": {
    "colab": {
     "base_uri": "https://localhost:8080/"
    },
    "id": "57ce35e6",
    "outputId": "4d3a0fd8-d246-4ccd-f222-34ebc78bc0e9"
   },
   "outputs": [],
   "source": [
    "for i in range(len(df_sorted[\"url\"])):\n",
    "    try:\n",
    "      tube_download(df_sorted[\"url\"][i], \"drive/MyDrive/games/\"+df_sorted[\"folder_title\"][i], df_sorted[\"video_name\"][i])\n",
    "    except:\n",
    "      url = df_sorted[\"url\"][i]\n",
    "      print(f\"{url} in {i} - fail\")"
   ]
  }
 ],
 "metadata": {
  "colab": {
   "collapsed_sections": [
    "WiAFtDpjIies"
   ],
   "provenance": []
  },
  "kernelspec": {
   "display_name": "Python 3 (ipykernel)",
   "language": "python",
   "name": "python3"
  },
  "language_info": {
   "codemirror_mode": {
    "name": "ipython",
    "version": 3
   },
   "file_extension": ".py",
   "mimetype": "text/x-python",
   "name": "python",
   "nbconvert_exporter": "python",
   "pygments_lexer": "ipython3",
   "version": "3.9.12"
  },
  "toc": {
   "base_numbering": 1,
   "nav_menu": {},
   "number_sections": true,
   "sideBar": true,
   "skip_h1_title": false,
   "title_cell": "Table of Contents",
   "title_sidebar": "Contents",
   "toc_cell": false,
   "toc_position": {},
   "toc_section_display": true,
   "toc_window_display": false
  }
 },
 "nbformat": 4,
 "nbformat_minor": 5
}
