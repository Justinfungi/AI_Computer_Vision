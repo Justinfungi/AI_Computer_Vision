{
  "nbformat": 4,
  "nbformat_minor": 0,
  "metadata": {
    "colab": {
      "provenance": [],
      "gpuType": "T4"
    },
    "kernelspec": {
      "name": "python3",
      "display_name": "Python 3"
    },
    "language_info": {
      "name": "python"
    },
    "accelerator": "GPU"
  },
  "cells": [
    {
      "cell_type": "code",
      "execution_count": null,
      "metadata": {
        "id": "AVuKzB0IEQI3",
        "colab": {
          "base_uri": "https://localhost:8080/"
        },
        "outputId": "8cb5e88a-1b9e-4c4f-8f6b-d9d3769e8963"
      },
      "outputs": [
        {
          "output_type": "stream",
          "name": "stdout",
          "text": [
            "Requirement already satisfied: selenium==4.4.3 in /usr/local/lib/python3.10/dist-packages (4.4.3)\n",
            "Requirement already satisfied: urllib3[socks]~=1.26 in /usr/local/lib/python3.10/dist-packages (from selenium==4.4.3) (1.26.18)\n",
            "Requirement already satisfied: trio~=0.17 in /usr/local/lib/python3.10/dist-packages (from selenium==4.4.3) (0.23.1)\n",
            "Requirement already satisfied: trio-websocket~=0.9 in /usr/local/lib/python3.10/dist-packages (from selenium==4.4.3) (0.11.1)\n",
            "Requirement already satisfied: certifi>=2021.10.8 in /usr/local/lib/python3.10/dist-packages (from selenium==4.4.3) (2023.7.22)\n",
            "Requirement already satisfied: attrs>=20.1.0 in /usr/local/lib/python3.10/dist-packages (from trio~=0.17->selenium==4.4.3) (23.1.0)\n",
            "Requirement already satisfied: sortedcontainers in /usr/local/lib/python3.10/dist-packages (from trio~=0.17->selenium==4.4.3) (2.4.0)\n",
            "Requirement already satisfied: idna in /usr/local/lib/python3.10/dist-packages (from trio~=0.17->selenium==4.4.3) (3.4)\n",
            "Requirement already satisfied: outcome in /usr/local/lib/python3.10/dist-packages (from trio~=0.17->selenium==4.4.3) (1.3.0.post0)\n",
            "Requirement already satisfied: sniffio>=1.3.0 in /usr/local/lib/python3.10/dist-packages (from trio~=0.17->selenium==4.4.3) (1.3.0)\n",
            "Requirement already satisfied: exceptiongroup>=1.0.0rc9 in /usr/local/lib/python3.10/dist-packages (from trio~=0.17->selenium==4.4.3) (1.1.3)\n",
            "Requirement already satisfied: wsproto>=0.14 in /usr/local/lib/python3.10/dist-packages (from trio-websocket~=0.9->selenium==4.4.3) (1.2.0)\n",
            "Requirement already satisfied: PySocks!=1.5.7,<2.0,>=1.5.6 in /usr/local/lib/python3.10/dist-packages (from urllib3[socks]~=1.26->selenium==4.4.3) (1.7.1)\n",
            "Requirement already satisfied: h11<1,>=0.9.0 in /usr/local/lib/python3.10/dist-packages (from wsproto>=0.14->trio-websocket~=0.9->selenium==4.4.3) (0.14.0)\n",
            "Requirement already satisfied: webdriver-manager in /usr/local/lib/python3.10/dist-packages (4.0.1)\n",
            "Requirement already satisfied: requests in /usr/local/lib/python3.10/dist-packages (from webdriver-manager) (2.31.0)\n",
            "Requirement already satisfied: python-dotenv in /usr/local/lib/python3.10/dist-packages (from webdriver-manager) (1.0.0)\n",
            "Requirement already satisfied: packaging in /usr/local/lib/python3.10/dist-packages (from webdriver-manager) (23.2)\n",
            "Requirement already satisfied: charset-normalizer<4,>=2 in /usr/local/lib/python3.10/dist-packages (from requests->webdriver-manager) (3.3.2)\n",
            "Requirement already satisfied: idna<4,>=2.5 in /usr/local/lib/python3.10/dist-packages (from requests->webdriver-manager) (3.4)\n",
            "Requirement already satisfied: urllib3<3,>=1.21.1 in /usr/local/lib/python3.10/dist-packages (from requests->webdriver-manager) (1.26.18)\n",
            "Requirement already satisfied: certifi>=2017.4.17 in /usr/local/lib/python3.10/dist-packages (from requests->webdriver-manager) (2023.7.22)\n",
            "Requirement already satisfied: fake-useragent in /usr/local/lib/python3.10/dist-packages (1.3.0)\n"
          ]
        }
      ],
      "source": [
        "import requests\n",
        "import os\n",
        "from bs4 import BeautifulSoup\n",
        "import re\n",
        "import time\n",
        "\n",
        "!pip install -U selenium==4.4.3\n",
        "from selenium import webdriver\n",
        "from selenium.webdriver.common.by import By\n",
        "from selenium.webdriver.support.ui import WebDriverWait\n",
        "from selenium.webdriver.support import expected_conditions as EC\n",
        "\n",
        "!pip install webdriver-manager\n",
        "from webdriver_manager.chrome import ChromeDriverManager\n",
        "# from selenium.webdriver.chrome.options import Options\n",
        "from selenium.webdriver.chrome.service import Service\n",
        "\n",
        "!pip install fake-useragent\n",
        "from fake_useragent import UserAgent"
      ]
    },
    {
      "cell_type": "code",
      "source": [
        "# API setup\n",
        "API_BASE_URL = 'https://api.thingiverse.com/'\n",
        "API_TOKEN = '0820f2e758c1673eb1eb07be65fda753'"
      ],
      "metadata": {
        "id": "wvtBLD7DEUHZ"
      },
      "execution_count": 8,
      "outputs": []
    },
    {
      "cell_type": "code",
      "source": [
        "!pip install fake-useragent\n",
        "from fake_useragent import UserAgent\n",
        "def edited_ua(ua):\n",
        "    pattern = r\"Chrome\"\n",
        "    pattern2 = r\"Safari\"\n",
        "\n",
        "    string = ua.random\n",
        "    #print(string)\n",
        "    match = re.search(pattern, string)\n",
        "    match2 = re.search(pattern2, string)\n",
        "\n",
        "    if match:\n",
        "        #print(match)\n",
        "        #print(match2)\n",
        "        if match2 == None:\n",
        "            new_string = edited_ua(ua)\n",
        "        elif match.start() != 0 and match.start() < match2.start():\n",
        "            splitted_list = string.split(string[match.start():match2.start()])\n",
        "            new_string = splitted_list[0] + \"Chrome/114.0.0.0 \" + splitted_list[1]\n",
        "        elif match.start() == 0:\n",
        "            new_string = edited_ua(ua)\n",
        "    else:\n",
        "        new_string = edited_ua(ua)\n",
        "\n",
        "    return new_string"
      ],
      "metadata": {
        "id": "LTSPAQ1ozxwX",
        "colab": {
          "base_uri": "https://localhost:8080/"
        },
        "outputId": "3f027aa6-5d58-4ff6-df38-10cd4d253e4c"
      },
      "execution_count": 12,
      "outputs": [
        {
          "output_type": "stream",
          "name": "stdout",
          "text": [
            "Collecting fake-useragent\n",
            "  Downloading fake_useragent-1.3.0-py3-none-any.whl (15 kB)\n",
            "Installing collected packages: fake-useragent\n",
            "Successfully installed fake-useragent-1.3.0\n"
          ]
        }
      ]
    },
    {
      "cell_type": "code",
      "source": [
        "# Set up for running selenium in Google Colab\n",
        "## You don't need to run this code if you do it in Jupyter notebook, or other local Python setting\n",
        "%%shell\n",
        "\n",
        "\n",
        "apt-get install -y libvulkan1\n",
        "\n",
        "sudo apt -y update\n",
        "sudo apt install -y wget curl unzip\n",
        "wget http://archive.ubuntu.com/ubuntu/pool/main/libu/libu2f-host/libu2f-udev_1.1.4-1_all.deb\n",
        "dpkg -i libu2f-udev_1.1.4-1_all.deb\n",
        "wget https://mirror.cs.uchicago.edu/google-chrome/pool/main/g/google-chrome-stable/google-chrome-stable_114.0.5735.133-1_amd64.deb\n",
        "dpkg -i google-chrome-stable_114.0.5735.133-1_amd64.deb\n",
        "CHROME_DRIVER_VERSION=`curl -sS chromedriver.storage.googleapis.com/LATEST_RELEASE`\n",
        "wget -N https://chromedriver.storage.googleapis.com/$CHROME_DRIVER_VERSION/chromedriver_linux64.zip -P /tmp/\n",
        "unzip -o /tmp/chromedriver_linux64.zip -d /tmp/\n",
        "chmod +x /tmp/chromedriver\n",
        "mv /tmp/chromedriver /usr/local/bin/chromedriver\n",
        "pip install selenium"
      ],
      "metadata": {
        "id": "KXhuTG1tD-yJ",
        "outputId": "b3698f5d-f7c7-4678-9fc9-eb143adc460c",
        "colab": {
          "base_uri": "https://localhost:8080/"
        }
      },
      "execution_count": 6,
      "outputs": [
        {
          "output_type": "stream",
          "name": "stdout",
          "text": [
            "Reading package lists... Done\n",
            "Building dependency tree... Done\n",
            "Reading state information... Done\n",
            "Recommended packages:\n",
            "  mesa-vulkan-drivers | vulkan-icd\n",
            "The following NEW packages will be installed:\n",
            "  libvulkan1\n",
            "0 upgraded, 1 newly installed, 0 to remove and 15 not upgraded.\n",
            "1 not fully installed or removed.\n",
            "Need to get 128 kB of archives.\n",
            "After this operation, 506 kB of additional disk space will be used.\n",
            "Get:1 http://archive.ubuntu.com/ubuntu jammy/main amd64 libvulkan1 amd64 1.3.204.1-2 [128 kB]\n",
            "Fetched 128 kB in 0s (314 kB/s)\n",
            "Selecting previously unselected package libvulkan1:amd64.\n",
            "(Reading database ... 121001 files and directories currently installed.)\n",
            "Preparing to unpack .../libvulkan1_1.3.204.1-2_amd64.deb ...\n",
            "Unpacking libvulkan1:amd64 (1.3.204.1-2) ...\n",
            "Setting up libvulkan1:amd64 (1.3.204.1-2) ...\n",
            "Setting up google-chrome-stable (114.0.5735.133-1) ...\n",
            "update-alternatives: using /usr/bin/google-chrome-stable to provide /usr/bin/x-www-browser (x-www-browser) in auto mode\n",
            "update-alternatives: using /usr/bin/google-chrome-stable to provide /usr/bin/gnome-www-browser (gnome-www-browser) in auto mode\n",
            "update-alternatives: using /usr/bin/google-chrome-stable to provide /usr/bin/google-chrome (google-chrome) in auto mode\n",
            "Processing triggers for libc-bin (2.35-0ubuntu3.4) ...\n",
            "/sbin/ldconfig.real: /usr/local/lib/libtbbbind.so.3 is not a symbolic link\n",
            "\n",
            "/sbin/ldconfig.real: /usr/local/lib/libtbbmalloc_proxy.so.2 is not a symbolic link\n",
            "\n",
            "/sbin/ldconfig.real: /usr/local/lib/libtbb.so.12 is not a symbolic link\n",
            "\n",
            "/sbin/ldconfig.real: /usr/local/lib/libtbbmalloc.so.2 is not a symbolic link\n",
            "\n",
            "/sbin/ldconfig.real: /usr/local/lib/libtbbbind_2_5.so.3 is not a symbolic link\n",
            "\n",
            "/sbin/ldconfig.real: /usr/local/lib/libtbbbind_2_0.so.3 is not a symbolic link\n",
            "\n",
            "Get:1 https://dl.google.com/linux/chrome/deb stable InRelease [1,825 B]\n",
            "Hit:2 https://cloud.r-project.org/bin/linux/ubuntu jammy-cran40/ InRelease\n",
            "Hit:3 https://developer.download.nvidia.com/compute/cuda/repos/ubuntu2204/x86_64  InRelease\n",
            "Get:4 https://dl.google.com/linux/chrome/deb stable/main amd64 Packages [1,084 B]\n",
            "Hit:5 http://security.ubuntu.com/ubuntu jammy-security InRelease\n",
            "Hit:6 http://archive.ubuntu.com/ubuntu jammy InRelease\n",
            "Hit:7 http://archive.ubuntu.com/ubuntu jammy-updates InRelease\n",
            "Hit:8 http://archive.ubuntu.com/ubuntu jammy-backports InRelease\n",
            "Hit:9 https://ppa.launchpadcontent.net/c2d4u.team/c2d4u4.0+/ubuntu jammy InRelease\n",
            "Hit:10 https://ppa.launchpadcontent.net/deadsnakes/ppa/ubuntu jammy InRelease\n",
            "Hit:11 https://ppa.launchpadcontent.net/graphics-drivers/ppa/ubuntu jammy InRelease\n",
            "Hit:12 https://ppa.launchpadcontent.net/ubuntugis/ppa/ubuntu jammy InRelease\n",
            "Fetched 2,909 B in 1s (2,420 B/s)\n",
            "Reading package lists... Done\n",
            "Building dependency tree... Done\n",
            "Reading state information... Done\n",
            "16 packages can be upgraded. Run 'apt list --upgradable' to see them.\n",
            "Reading package lists... Done\n",
            "Building dependency tree... Done\n",
            "Reading state information... Done\n",
            "wget is already the newest version (1.21.2-2ubuntu1).\n",
            "curl is already the newest version (7.81.0-1ubuntu1.14).\n",
            "unzip is already the newest version (6.0-26ubuntu3.1).\n",
            "0 upgraded, 0 newly installed, 0 to remove and 16 not upgraded.\n",
            "--2023-11-16 03:20:29--  http://archive.ubuntu.com/ubuntu/pool/main/libu/libu2f-host/libu2f-udev_1.1.4-1_all.deb\n",
            "Resolving archive.ubuntu.com (archive.ubuntu.com)... 185.125.190.36, 91.189.91.82, 185.125.190.39, ...\n",
            "Connecting to archive.ubuntu.com (archive.ubuntu.com)|185.125.190.36|:80... connected.\n",
            "HTTP request sent, awaiting response... 200 OK\n",
            "Length: 3708 (3.6K) [application/x-debian-package]\n",
            "Saving to: ‘libu2f-udev_1.1.4-1_all.deb.3’\n",
            "\n",
            "libu2f-udev_1.1.4-1 100%[===================>]   3.62K  --.-KB/s    in 0s      \n",
            "\n",
            "2023-11-16 03:20:29 (478 MB/s) - ‘libu2f-udev_1.1.4-1_all.deb.3’ saved [3708/3708]\n",
            "\n",
            "(Reading database ... 121010 files and directories currently installed.)\n",
            "Preparing to unpack libu2f-udev_1.1.4-1_all.deb ...\n",
            "Unpacking libu2f-udev (1.1.4-1) over (1.1.4-1) ...\n",
            "Setting up libu2f-udev (1.1.4-1) ...\n",
            "--2023-11-16 03:20:29--  https://mirror.cs.uchicago.edu/google-chrome/pool/main/g/google-chrome-stable/google-chrome-stable_114.0.5735.133-1_amd64.deb\n",
            "Resolving mirror.cs.uchicago.edu (mirror.cs.uchicago.edu)... 128.135.164.21\n",
            "Connecting to mirror.cs.uchicago.edu (mirror.cs.uchicago.edu)|128.135.164.21|:443... connected.\n",
            "HTTP request sent, awaiting response... 200 OK\n",
            "Length: 94355016 (90M) [application/octet-stream]\n",
            "Saving to: ‘google-chrome-stable_114.0.5735.133-1_amd64.deb.3’\n",
            "\n",
            "google-chrome-stabl 100%[===================>]  89.98M  4.68MB/s    in 20s     \n",
            "\n",
            "2023-11-16 03:20:49 (4.59 MB/s) - ‘google-chrome-stable_114.0.5735.133-1_amd64.deb.3’ saved [94355016/94355016]\n",
            "\n",
            "(Reading database ... 121010 files and directories currently installed.)\n",
            "Preparing to unpack google-chrome-stable_114.0.5735.133-1_amd64.deb ...\n",
            "Unpacking google-chrome-stable (114.0.5735.133-1) over (114.0.5735.133-1) ...\n",
            "Setting up google-chrome-stable (114.0.5735.133-1) ...\n",
            "Processing triggers for man-db (2.10.2-1) ...\n",
            "--2023-11-16 03:21:00--  https://chromedriver.storage.googleapis.com/114.0.5735.90/chromedriver_linux64.zip\n",
            "Resolving chromedriver.storage.googleapis.com (chromedriver.storage.googleapis.com)... 142.251.2.207, 2607:f8b0:4023:c0d::cf\n",
            "Connecting to chromedriver.storage.googleapis.com (chromedriver.storage.googleapis.com)|142.251.2.207|:443... connected.\n",
            "HTTP request sent, awaiting response... 304 Not Modified\n",
            "File ‘/tmp/chromedriver_linux64.zip’ not modified on server. Omitting download.\n",
            "\n",
            "Archive:  /tmp/chromedriver_linux64.zip\n",
            "  inflating: /tmp/chromedriver       \n",
            "  inflating: /tmp/LICENSE.chromedriver  \n",
            "Requirement already satisfied: selenium in /usr/local/lib/python3.10/dist-packages (4.15.2)\n",
            "Requirement already satisfied: urllib3[socks]<3,>=1.26 in /usr/local/lib/python3.10/dist-packages (from selenium) (2.0.7)\n",
            "Requirement already satisfied: trio~=0.17 in /usr/local/lib/python3.10/dist-packages (from selenium) (0.23.1)\n",
            "Requirement already satisfied: trio-websocket~=0.9 in /usr/local/lib/python3.10/dist-packages (from selenium) (0.11.1)\n",
            "Requirement already satisfied: certifi>=2021.10.8 in /usr/local/lib/python3.10/dist-packages (from selenium) (2023.7.22)\n",
            "Requirement already satisfied: attrs>=20.1.0 in /usr/local/lib/python3.10/dist-packages (from trio~=0.17->selenium) (23.1.0)\n",
            "Requirement already satisfied: sortedcontainers in /usr/local/lib/python3.10/dist-packages (from trio~=0.17->selenium) (2.4.0)\n",
            "Requirement already satisfied: idna in /usr/local/lib/python3.10/dist-packages (from trio~=0.17->selenium) (3.4)\n",
            "Requirement already satisfied: outcome in /usr/local/lib/python3.10/dist-packages (from trio~=0.17->selenium) (1.3.0.post0)\n",
            "Requirement already satisfied: sniffio>=1.3.0 in /usr/local/lib/python3.10/dist-packages (from trio~=0.17->selenium) (1.3.0)\n",
            "Requirement already satisfied: exceptiongroup>=1.0.0rc9 in /usr/local/lib/python3.10/dist-packages (from trio~=0.17->selenium) (1.1.3)\n",
            "Requirement already satisfied: wsproto>=0.14 in /usr/local/lib/python3.10/dist-packages (from trio-websocket~=0.9->selenium) (1.2.0)\n",
            "Requirement already satisfied: pysocks!=1.5.7,<2.0,>=1.5.6 in /usr/local/lib/python3.10/dist-packages (from urllib3[socks]<3,>=1.26->selenium) (1.7.1)\n",
            "Requirement already satisfied: h11<1,>=0.9.0 in /usr/local/lib/python3.10/dist-packages (from wsproto>=0.14->trio-websocket~=0.9->selenium) (0.14.0)\n"
          ]
        },
        {
          "output_type": "execute_result",
          "data": {
            "text/plain": []
          },
          "metadata": {},
          "execution_count": 6
        }
      ]
    },
    {
      "cell_type": "code",
      "source": [
        "!pip install chromedriver-autoinstaller\n",
        "\n",
        "import sys\n",
        "sys.path.insert(0,'/usr/lib/chromium-browser/chromedriver')\n",
        "\n",
        "import time\n",
        "import pandas as pd\n",
        "from bs4 import BeautifulSoup\n",
        "from selenium import webdriver\n",
        "import chromedriver_autoinstaller\n",
        "from selenium.webdriver.support.ui import WebDriverWait\n",
        "from selenium.webdriver.support import expected_conditions as EC\n",
        "from selenium.webdriver.common.by import By\n",
        "import re\n",
        "\n",
        "# setup chrome options\n",
        "chrome_options = webdriver.ChromeOptions()\n",
        "chrome_options.add_argument('--headless') # ensure GUI is off\n",
        "chrome_options.add_argument('--no-sandbox')\n",
        "chrome_options.add_argument('--disable-dev-shm-usage')\n",
        "chrome_options.add_argument(\"window-size=1920,1080\")\n",
        "user_agent = edited_ua(UserAgent(browsers=['edge', 'chrome']))\n",
        "chrome_options.add_argument(f\"user-agent={user_agent}\")\n",
        "chrome_options.add_argument(\"disable-component-update\")\n",
        "chrome_options.add_argument(\"start-maximized\")\n",
        "\n",
        "\n",
        "obj = \"pokemon\"\n",
        "page = \"1\"\n",
        "thingiverse_url = f'https://www.thingiverse.com/search?q={obj}&page={page}&type=things&sort=relevant'\n",
        "\n",
        "# set path to chromedriver as per your configuration\n",
        "chromedriver_autoinstaller.install()\n",
        "\n",
        "# set up the webdriver\n",
        "driver = webdriver.Chrome(options=chrome_options)\n",
        "driver.get(thingiverse_url)\n",
        "driver.add_cookie({\"name\": \"CookieConsent\", \"value\": \"true\"})\n",
        "driver.implicitly_wait(3)\n",
        "\n",
        "button_element = driver.find_element(By.CLASS_NAME, 'CybotCookiebotDialogBodyButton')\n",
        "button_element.click()\n",
        "time.sleep(5)\n",
        "\n",
        "driver.refresh()\n",
        "\n",
        "time.sleep(5)\n",
        "links = []\n",
        "a_tags = driver.find_elements(By.TAG_NAME, 'a')\n",
        "\n",
        "for a_tag in a_tags:\n",
        "    href = a_tag.get_attribute('href')\n",
        "\n",
        "    if (href is not None):\n",
        "        href = href.split(\"/\")[-1]\n",
        "    links.append(href)\n",
        "\n",
        "filtered_list = [item.split(\":\")[-1] for item in links if item is not None and item.startswith(\"thing:\")]\n",
        "filtered_list = list(set(filtered_list))\n",
        "print(filtered_list)\n",
        "\n",
        "driver.quit()"
      ],
      "metadata": {
        "id": "BWoxD4yEEBO7",
        "outputId": "ec3c7b99-d447-46f7-8cc9-c1a8c3659b98",
        "colab": {
          "base_uri": "https://localhost:8080/"
        }
      },
      "execution_count": 15,
      "outputs": [
        {
          "output_type": "stream",
          "name": "stdout",
          "text": [
            "Requirement already satisfied: chromedriver-autoinstaller in /usr/local/lib/python3.10/dist-packages (0.6.2)\n",
            "['4615608', '4540933', '3940310', '3877926', '3962846', '4946522', '4706344', '4696284', '1482617', '1736928', '2369887', '4671256', '4625886', '4750833', '3857781', '4600030', '1681983', '1376811', '2813509', '1932974']\n"
          ]
        }
      ]
    }
  ]
}