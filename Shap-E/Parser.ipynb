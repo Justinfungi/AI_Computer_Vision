{
 "cells": [
  {
   "cell_type": "code",
   "execution_count": 67,
   "id": "4df70342",
   "metadata": {
    "ExecuteTime": {
     "end_time": "2023-11-16T01:46:28.973393Z",
     "start_time": "2023-11-16T01:46:28.970468Z"
    }
   },
   "outputs": [
    {
     "name": "stdout",
     "output_type": "stream",
     "text": [
      "Selenium version: 4.4.3\n"
     ]
    }
   ],
   "source": [
    "import selenium\n",
    "\n",
    "selenium_version = selenium.__version__\n",
    "print(\"Selenium version:\", selenium_version)"
   ]
  },
  {
   "cell_type": "code",
   "execution_count": 58,
   "id": "8061ce53",
   "metadata": {
    "ExecuteTime": {
     "end_time": "2023-11-16T01:25:45.929971Z",
     "start_time": "2023-11-16T01:25:30.702345Z"
    }
   },
   "outputs": [
    {
     "name": "stderr",
     "output_type": "stream",
     "text": [
      "/tmp/ipykernel_170454/1645881985.py:49: DeprecationWarning: executable_path has been deprecated, please pass in a Service object\n",
      "  driver = webdriver.Chrome('/home/fish/Documents/WebScraping/driver/chromedriver_ubuntu119',options=chrome_options)\n"
     ]
    },
    {
     "name": "stdout",
     "output_type": "stream",
     "text": [
      "['1932974', '3877926', '4671256', '3857781', '4625886', '4706344', '1376811', '2813509', '4600030', '3940310', '4696284', '2369887', '1482617', '3962846', '4540933', '4750833', '1736928', '4615608', '1681983', '4946522']\n"
     ]
    }
   ],
   "source": [
    "import requests\n",
    "from bs4 import BeautifulSoup\n",
    "from selenium import webdriver\n",
    "from selenium.webdriver.common.by import By\n",
    "from selenium.webdriver.support.ui import WebDriverWait\n",
    "from selenium.webdriver.support import expected_conditions as EC\n",
    "from webdriver_manager.chrome import ChromeDriverManager\n",
    "from selenium.webdriver.chrome.options import Options\n",
    "from fake_useragent import UserAgent\n",
    "import requests\n",
    "import re\n",
    "import time\n",
    "def edited_ua(ua):\n",
    "    pattern = r\"Chrome\"\n",
    "    pattern2 = r\"Safari\"\n",
    "\n",
    "    string = ua.random\n",
    "    #print(string)\n",
    "    match = re.search(pattern, string)\n",
    "    match2 = re.search(pattern2, string)\n",
    "\n",
    "    if match:\n",
    "        #print(match)\n",
    "        #print(match2)\n",
    "        if match2 == None:\n",
    "            new_string = edited_ua(ua)\n",
    "        elif match.start() != 0 and match.start() < match2.start():\n",
    "            splitted_list = string.split(string[match.start():match2.start()])\n",
    "            new_string = splitted_list[0] + \"Chrome/114.0.0.0 \" + splitted_list[1]\n",
    "        elif match.start() == 0:\n",
    "            new_string = edited_ua(ua)\n",
    "    else:\n",
    "        new_string = edited_ua(ua)\n",
    "    \n",
    "    return new_string\n",
    "\n",
    "obj = \"pokemon\"\n",
    "page = \"1\"\n",
    "thingiverse_url = f'https://www.thingiverse.com/search?q={obj}&page={page}&type=things&sort=relevant'\n",
    "\n",
    "# Set up Chrome options\n",
    "chrome_options = Options()\n",
    "chrome_options.add_argument(\"window-size=1920,1080\")\n",
    "#chrome_options.add_argument( \"--headless\") #==> not open chrome\n",
    "user_agent = edited_ua(UserAgent(browsers=['edge', 'chrome']))\n",
    "chrome_options.add_argument(f\"--user-agent={user_agent}\")\n",
    "chrome_options.add_argument(f\"--disable-component-update\")\n",
    "chrome_options.add_argument(\"--start-maximized\")\n",
    "driver = webdriver.Chrome('/home/fish/Documents/WebScraping/driver/chromedriver_ubuntu119',options=chrome_options)\n",
    "\n",
    "\n",
    "driver.get(thingiverse_url)\n",
    "driver.add_cookie({\"name\": \"CookieConsent\", \"value\": \"true\"})\n",
    "driver.implicitly_wait(3)\n",
    "\n",
    "button_element = driver.find_element(By.CLASS_NAME, 'CybotCookiebotDialogBodyButton')\n",
    "button_element.click()\n",
    "time.sleep(5)\n",
    "\n",
    "driver.refresh()\n",
    "\n",
    "time.sleep(5)\n",
    "links = []\n",
    "a_tags = driver.find_elements(By.TAG_NAME, 'a')\n",
    "\n",
    "for a_tag in a_tags:\n",
    "    href = a_tag.get_attribute('href')\n",
    "\n",
    "    if (href is not None):\n",
    "        href = href.split(\"/\")[-1]\n",
    "    links.append(href)\n",
    "\n",
    "filtered_list = [item.split(\":\")[-1] for item in links if item is not None and item.startswith(\"thing:\")]\n",
    "filtered_list = list(set(filtered_list))\n",
    "print(filtered_list)\n",
    "\n",
    "driver.quit()"
   ]
  },
  {
   "cell_type": "code",
   "execution_count": 66,
   "id": "44e13b80",
   "metadata": {
    "ExecuteTime": {
     "end_time": "2023-11-16T01:36:24.652897Z",
     "start_time": "2023-11-16T01:36:19.992720Z"
    }
   },
   "outputs": [
    {
     "name": "stdout",
     "output_type": "stream",
     "text": [
      "{'name': 'Vulpix_50MB.stl', 'url': 'https://cdn.thingiverse.com/assets/6b/60/77/3e/5d/Vulpix_50MB.stl'}\n",
      "https://cdn.thingiverse.com/assets/6b/60/77/3e/5d/Vulpix_50MB.stl\n"
     ]
    }
   ],
   "source": [
    "import requests\n",
    "import os\n",
    "\n",
    "# API setup\n",
    "API_BASE_URL = 'https://api.thingiverse.com/'\n",
    "API_TOKEN = '0820f2e758c1673eb1eb07be65fda753'\n",
    "\n",
    "def fetch_thing_details(thing_id):\n",
    "  url = f\"{API_BASE_URL}things/{thing_id}?access_token={API_TOKEN}\"\n",
    "  response = requests.get(url)\n",
    "  return response.json() if response.status_code == 200 else None\n",
    "\n",
    "def download_stl_file(url, folder, filename):\n",
    "  response = requests.get(url)\n",
    "  if response.status_code == 200:\n",
    "    with open(f\"{folder}/{filename}\", 'wb') as file:\n",
    "      file.write(response.content)\n",
    "\n",
    "def download_thing(thing_id):\n",
    "    thing_details = fetch_thing_details(thing_id)\n",
    "    if thing_details:\n",
    "      thing_directory = f\"things/thing_{thing_id}\"\n",
    "      os.makedirs(thing_directory, exist_ok=True)\n",
    "\n",
    "      # Save Description\n",
    "      description = thing_details.get('description', '')  # Fetch the description as text\n",
    "      with open(f\"{thing_directory}/description_{thing_id}.txt\", 'w') as file:\n",
    "        file.write(description)  # Write the description text to the file\n",
    "      # Download STL Files\n",
    "      for file_detail in thing_details.get('zip_data', {}).get('files', []):\n",
    "        print(file_detail)\n",
    "        try:\n",
    "          stl_url = file_detail.get('url')\n",
    "          print(stl_url)\n",
    "          if stl_url:\n",
    "            download_stl_file(stl_url, thing_directory, file_detail['name'])\n",
    "            \n",
    "        except:\n",
    "            pass\n",
    "download_thing(filtered_list[2])"
   ]
  }
 ],
 "metadata": {
  "kernelspec": {
   "display_name": "Python 3 (ipykernel)",
   "language": "python",
   "name": "python3"
  },
  "language_info": {
   "codemirror_mode": {
    "name": "ipython",
    "version": 3
   },
   "file_extension": ".py",
   "mimetype": "text/x-python",
   "name": "python",
   "nbconvert_exporter": "python",
   "pygments_lexer": "ipython3",
   "version": "3.9.12"
  },
  "toc": {
   "base_numbering": 1,
   "nav_menu": {},
   "number_sections": true,
   "sideBar": true,
   "skip_h1_title": false,
   "title_cell": "Table of Contents",
   "title_sidebar": "Contents",
   "toc_cell": false,
   "toc_position": {},
   "toc_section_display": true,
   "toc_window_display": false
  }
 },
 "nbformat": 4,
 "nbformat_minor": 5
}
