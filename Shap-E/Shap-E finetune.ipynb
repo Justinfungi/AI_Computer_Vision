{
 "cells": [
  {
   "cell_type": "code",
   "execution_count": 1,
   "id": "6b5aa222",
   "metadata": {
    "ExecuteTime": {
     "end_time": "2023-11-21T03:39:05.324572Z",
     "start_time": "2023-11-21T03:36:39.673025Z"
    }
   },
   "outputs": [
    {
     "name": "stdout",
     "output_type": "stream",
     "text": [
      "/home/fish/Documents/AI_Computer_Vision/Shap-E/shap-e\n",
      "^C\n",
      "^C\n"
     ]
    }
   ],
   "source": [
    "!git clone https://github.com/openai/shap-e.git  > /dev/null 2>&1\n",
    "%cd shap-e/\n",
    "!pip install -e . > /dev/null 2>&1\n",
    "!conda install -y conda-forge numpy-stl > /dev/null 2>&1"
   ]
  },
  {
   "cell_type": "code",
   "execution_count": null,
   "id": "849b62e6",
   "metadata": {
    "ExecuteTime": {
     "start_time": "2023-11-21T03:43:35.209Z"
    }
   },
   "outputs": [
    {
     "data": {
      "application/vnd.jupyter.widget-view+json": {
       "model_id": "40b5fe8dbc2a448fbf2a1c39b94d5042",
       "version_major": 2,
       "version_minor": 0
      },
      "text/plain": [
       "  0%|          | 0.00/1.78G [00:00<?, ?iB/s]"
      ]
     },
     "metadata": {},
     "output_type": "display_data"
    }
   ],
   "source": [
    "import torch\n",
    "from stl import mesh\n",
    "import os\n",
    "import glob\n",
    "\n",
    "from shap_e.models.download import load_model\n",
    "from shap_e.util.data_util import load_or_create_multimodal_batch\n",
    "from shap_e.util.notebooks import create_pan_cameras, decode_latent_images, gif_widget\n",
    "\n",
    "device = torch.device('cuda' if torch.cuda.is_available() else 'cpu')\n",
    "device\n",
    "xm = load_model('transmitter', device=device)\n",
    "\n",
    "model_path = \"example_data/cactus/object.obj\"\n",
    "\n",
    "batch = load_or_create_multimodal_batch(\n",
    "    device,\n",
    "    model_path=model_path,\n",
    "    mv_light_mode=\"basic\",\n",
    "    mv_image_size=256,\n",
    "    cache_dir=\"example_data/cactus/cached\",\n",
    "    verbose=True, \n",
    ")\n",
    "with torch.no_grad():\n",
    "    latent = xm.encoder.encode_to_bottleneck(batch)\n",
    "\n",
    "    render_mode = 'stf' \n",
    "    size = 128 \n",
    "\n",
    "    cameras = create_pan_cameras(size, device)\n",
    "    images = decode_latent_images(xm, latent, cameras, rendering_mode=render_mode)\n",
    "    display(gif_widget(images))"
   ]
  },
  {
   "cell_type": "code",
   "execution_count": null,
   "id": "ad83ccbc",
   "metadata": {
    "ExecuteTime": {
     "end_time": "2023-11-21T03:43:32.769662Z",
     "start_time": "2023-11-21T03:43:32.769650Z"
    }
   },
   "outputs": [],
   "source": [
    "def create_input():\n",
    "    folder_name = \"Input\"\n",
    "    if os.path.exists(folder_name):\n",
    "        print(f\"The folder '{folder_name}' already exists.\")\n",
    "    else:\n",
    "        os.makedirs(folder_name)\n",
    "        print(f\"The folder '{folder_name}' has been created.\")\n",
    "        \n",
    "def get_all_obj():\n",
    "    folder_path = \"things\"\n",
    "    obj_files = glob.glob(f\"{folder_path}/**/*.obj\", recursive=True)\n",
    "    file_names = [os.path.basename(file) for file in obj_files]\n",
    "    return obj_files, file_names\n",
    "\n",
    "def stl_to_obj(Path,Name):\n",
    "  stl_mesh = mesh.Mesh.from_file(f'{Name}.stl')\n",
    "  stl_mesh.save(f'Input/{Name}.obj', mode=stl.Mode.ASCII)\n",
    "    \n",
    "def finetune_latent(path,name):\n",
    "  model_path = f\"{path}/{name}.obj\"\n",
    "  batch = load_or_create_multimodal_batch(\n",
    "      device,\n",
    "      model_path=model_path,\n",
    "      mv_light_mode=\"basic\",\n",
    "      mv_image_size=256,\n",
    "      cache_dir=\"example_data/cactus/cached\",\n",
    "      verbose=True, # this will show Blender output during renders\n",
    "  )\n",
    "  with torch.no_grad():\n",
    "      latent = xm.encoder.encode_to_bottleneck(batch)"
   ]
  },
  {
   "cell_type": "code",
   "execution_count": null,
   "id": "28a5523b",
   "metadata": {},
   "outputs": [],
   "source": [
    "obj_files, file_names = get_all_obj()\n",
    "for path, name in zip(obj_files, file_names):\n",
    "    stl_to_obj(path,name)"
   ]
  }
 ],
 "metadata": {
  "kernelspec": {
   "display_name": "DSLAB",
   "language": "python",
   "name": "dslab"
  },
  "language_info": {
   "codemirror_mode": {
    "name": "ipython",
    "version": 3
   },
   "file_extension": ".py",
   "mimetype": "text/x-python",
   "name": "python",
   "nbconvert_exporter": "python",
   "pygments_lexer": "ipython3",
   "version": "3.8.17"
  },
  "toc": {
   "base_numbering": 1,
   "nav_menu": {},
   "number_sections": true,
   "sideBar": true,
   "skip_h1_title": false,
   "title_cell": "Table of Contents",
   "title_sidebar": "Contents",
   "toc_cell": false,
   "toc_position": {},
   "toc_section_display": true,
   "toc_window_display": false
  }
 },
 "nbformat": 4,
 "nbformat_minor": 5
}
