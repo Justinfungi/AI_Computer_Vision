{
 "cells": [
  {
   "cell_type": "code",
   "execution_count": 1,
   "metadata": {
    "executionInfo": {
     "elapsed": 133,
     "status": "ok",
     "timestamp": 1700091029396,
     "user": {
      "displayName": "Anjie Yang",
      "userId": "04242348052196003458"
     },
     "user_tz": 300
    },
    "id": "AVuKzB0IEQI3"
   },
   "outputs": [],
   "source": [
    "import requests\n",
    "import os"
   ]
  },
  {
   "cell_type": "code",
   "execution_count": 2,
   "metadata": {
    "executionInfo": {
     "elapsed": 3,
     "status": "ok",
     "timestamp": 1700091030759,
     "user": {
      "displayName": "Anjie Yang",
      "userId": "04242348052196003458"
     },
     "user_tz": 300
    },
    "id": "wvtBLD7DEUHZ"
   },
   "outputs": [],
   "source": [
    "# API setup\n",
    "API_BASE_URL = 'https://api.thingiverse.com/'\n",
    "API_TOKEN = '0820f2e758c1673eb1eb07be65fda753'"
   ]
  },
  {
   "cell_type": "code",
   "execution_count": 3,
   "metadata": {
    "executionInfo": {
     "elapsed": 122,
     "status": "ok",
     "timestamp": 1700091031896,
     "user": {
      "displayName": "Anjie Yang",
      "userId": "04242348052196003458"
     },
     "user_tz": 300
    },
    "id": "A-kDyqULEVW0"
   },
   "outputs": [],
   "source": [
    "def fetch_thing_details(thing_id):\n",
    "  url = f\"{API_BASE_URL}things/{thing_id}?access_token={API_TOKEN}\"\n",
    "  response = requests.get(url)\n",
    "  return response.json() if response.status_code == 200 else None\n",
    "\n",
    "def download_stl_file(url, folder, filename):\n",
    "  response = requests.get(url)\n",
    "  if response.status_code == 200:\n",
    "    with open(f\"{folder}/{filename}\", 'wb') as file:\n",
    "      file.write(response.content)"
   ]
  },
  {
   "cell_type": "code",
   "execution_count": 4,
   "metadata": {
    "executionInfo": {
     "elapsed": 1136,
     "status": "ok",
     "timestamp": 1700091035072,
     "user": {
      "displayName": "Anjie Yang",
      "userId": "04242348052196003458"
     },
     "user_tz": 300
    },
    "id": "ajzEeZFeEdHS"
   },
   "outputs": [],
   "source": [
    "thing_id = 5240533\n",
    "\n",
    "thing_details = fetch_thing_details(thing_id)\n",
    "if thing_details:\n",
    "  thing_directory = f\"things/thing_{thing_id}\"\n",
    "  os.makedirs(thing_directory, exist_ok=True)\n",
    "\n",
    "  # Save Description\n",
    "  description = thing_details.get('description', '')  # Fetch the description as text\n",
    "  with open(f\"{thing_directory}/description_{thing_id}.txt\", 'w') as file:\n",
    "    file.write(description)  # Write the description text to the file\n",
    "  # Download STL Files\n",
    "  for file_detail in thing_details.get('zip_data', {}).get('files', []):\n",
    "    if file_detail.get('name', '').endswith('.STL'):\n",
    "      stl_url = file_detail.get('url')\n",
    "      if stl_url:\n",
    "        download_stl_file(stl_url, thing_directory, file_detail['name'])"
   ]
  }
 ],
 "metadata": {
  "accelerator": "GPU",
  "colab": {
   "authorship_tag": "ABX9TyPzQ3oX/uGEWQNEkUq2Y5pL",
   "gpuType": "T4",
   "provenance": []
  },
  "kernelspec": {
   "display_name": "Python 3 (ipykernel)",
   "language": "python",
   "name": "python3"
  },
  "language_info": {
   "codemirror_mode": {
    "name": "ipython",
    "version": 3
   },
   "file_extension": ".py",
   "mimetype": "text/x-python",
   "name": "python",
   "nbconvert_exporter": "python",
   "pygments_lexer": "ipython3",
   "version": "3.9.12"
  },
  "toc": {
   "base_numbering": 1,
   "nav_menu": {},
   "number_sections": true,
   "sideBar": true,
   "skip_h1_title": false,
   "title_cell": "Table of Contents",
   "title_sidebar": "Contents",
   "toc_cell": false,
   "toc_position": {},
   "toc_section_display": true,
   "toc_window_display": false
  }
 },
 "nbformat": 4,
 "nbformat_minor": 1
}
